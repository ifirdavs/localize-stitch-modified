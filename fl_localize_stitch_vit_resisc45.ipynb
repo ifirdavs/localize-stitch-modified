{
 "cells": [
  {
   "cell_type": "markdown",
   "id": "0993439f",
   "metadata": {
    "id": "0993439f"
   },
   "source": [
    "- Backbone  : ViT-Small/16 (≈22 M params, ImageNet pretrained)  \n",
    "- Clients   : 5 clinets (Dirichlet-α = 0.15 skewed)  \n",
    "- Dataset : MNIST (~60 k images)\n",
    "- Epochs    : 3 per client  |  Batch size: 64  |  Checkpoints every epoch  "
   ]
  },
  {
   "cell_type": "markdown",
   "id": "ZIwMCEY4OCmq",
   "metadata": {
    "id": "ZIwMCEY4OCmq"
   },
   "source": [
    "### 0.$\\,$Google-Drive mount (skip on local Jupyter)"
   ]
  },
  {
   "cell_type": "code",
   "execution_count": 1,
   "id": "wrO1yG-WXg9U",
   "metadata": {
    "colab": {
     "base_uri": "https://localhost:8080/"
    },
    "executionInfo": {
     "elapsed": 30324,
     "status": "ok",
     "timestamp": 1746198184392,
     "user": {
      "displayName": "Jay Osborne",
      "userId": "10666121051852436936"
     },
     "user_tz": -300
    },
    "id": "wrO1yG-WXg9U",
    "outputId": "46aef0ae-6962-4c85-89fb-2b03afb8f750"
   },
   "outputs": [
    {
     "name": "stdout",
     "output_type": "stream",
     "text": [
      "Mounted at /content/drive\n"
     ]
    }
   ],
   "source": [
    "from google.colab import drive\n",
    "drive.mount('/content/drive')\n",
    "\n",
    "# ROOT_PATH = \"/content/drive/MyDrive/Graduation Thesis/fl_localize_stitch_vit/\"\n",
    "ROOT_PATH = \"/content/drive/Othercomputers/Victus/Disk D/New Uzb Semester 8/Graduation Thesis/fl_localize_stitch_vit/\"\n",
    "# ROOT_PATH = \"./\"              # to run locally"
   ]
  },
  {
   "cell_type": "markdown",
   "id": "ee48fc52",
   "metadata": {
    "id": "ee48fc52"
   },
   "source": [
    "#### 0a. Dependencies"
   ]
  },
  {
   "cell_type": "code",
   "execution_count": 33,
   "id": "035baa83",
   "metadata": {
    "executionInfo": {
     "elapsed": 43,
     "status": "ok",
     "timestamp": 1746199889217,
     "user": {
      "displayName": "Jay Osborne",
      "userId": "10666121051852436936"
     },
     "user_tz": -300
    },
    "id": "035baa83"
   },
   "outputs": [],
   "source": [
    "import subprocess, sys, importlib, pathlib, os\n",
    "\n",
    "PKGS = [\"torch\", \"torchvision\", \"timm\", \"tqdm\"]\n",
    "for pkg in PKGS:\n",
    "    try:\n",
    "        importlib.import_module(pkg)\n",
    "    except ModuleNotFoundError:\n",
    "        subprocess.check_call([sys.executable, \"-m\", \"pip\", \"install\", pkg])"
   ]
  },
  {
   "cell_type": "code",
   "execution_count": 34,
   "id": "YlfX6cGIYKov",
   "metadata": {
    "executionInfo": {
     "elapsed": 1,
     "status": "ok",
     "timestamp": 1746199889579,
     "user": {
      "displayName": "Jay Osborne",
      "userId": "10666121051852436936"
     },
     "user_tz": -300
    },
    "id": "YlfX6cGIYKov"
   },
   "outputs": [],
   "source": [
    "ROOT_PATH = pathlib.Path(ROOT_PATH).resolve()\n",
    "sys.path.extend([str(ROOT_PATH)])\n",
    "\n",
    "ckpt_dir = ROOT_PATH / \"checkpoints\"\n",
    "ckpt_dir.mkdir(exist_ok=True)"
   ]
  },
  {
   "cell_type": "markdown",
   "id": "861f21b0",
   "metadata": {
    "id": "861f21b0"
   },
   "source": [
    "### 1.$\\,$Hyper-parameters & torchvision transforms  "
   ]
  },
  {
   "cell_type": "code",
   "execution_count": 35,
   "id": "9cb4ec76",
   "metadata": {
    "executionInfo": {
     "elapsed": 3,
     "status": "ok",
     "timestamp": 1746199890264,
     "user": {
      "displayName": "Jay Osborne",
      "userId": "10666121051852436936"
     },
     "user_tz": -300
    },
    "id": "9cb4ec76"
   },
   "outputs": [],
   "source": [
    "NUM_CLIENTS = 5\n",
    "EPOCHS      = 4\n",
    "BATCH_SIZE  = 64\n",
    "IMG_SIZE    = 224    # ViT default patch‑16 grid\n",
    "ALPHA       = 0.15   # Dirichlet concentration → stronger skew < 1, weaker skew > 1\n",
    "SUBSET_FRAC = 0.20\n",
    "DATASET     = \"EuroSAT\"\n",
    "SEED        = 42\n",
    "\n",
    "from torchvision import transforms\n",
    "\n",
    "preprocess = transforms.Compose([\n",
    "    transforms.Resize((IMG_SIZE, IMG_SIZE)),\n",
    "    transforms.ToTensor(),\n",
    "    transforms.Lambda(lambda x: x.expand(3, -1, -1)),        # 1-→3 channels\n",
    "    transforms.Normalize((0.5,)*3, (0.5,)*3),\n",
    "])"
   ]
  },
  {
   "cell_type": "markdown",
   "id": "d5eefbcf",
   "metadata": {
    "id": "d5eefbcf"
   },
   "source": [
    "### 2.$\\,$Data loading (with sub-sampling) & skewed client splits"
   ]
  },
  {
   "cell_type": "code",
   "execution_count": 36,
   "id": "QEt05r_ip-4c",
   "metadata": {
    "executionInfo": {
     "elapsed": 4,
     "status": "ok",
     "timestamp": 1746199891333,
     "user": {
      "displayName": "Jay Osborne",
      "userId": "10666121051852436936"
     },
     "user_tz": -300
    },
    "id": "QEt05r_ip-4c"
   },
   "outputs": [],
   "source": [
    "# RESISC45 helper (not in torchvision)\n",
    "from pathlib import Path\n",
    "from PIL import Image\n",
    "\n",
    "\n",
    "class RESISC45(torch.utils.data.Dataset):\n",
    "    def __init__(self, root, split=\"train\", transform=None, download=True):\n",
    "        self.transform = transform\n",
    "        url = \"https://zenodo.org/record/7111786/files/RESISC45.zip?download=1\"\n",
    "        root = Path(root).expanduser()\n",
    "        zip_path = root / \"RESISC45.zip\"\n",
    "        if download and not zip_path.exists():\n",
    "            import urllib.request, zipfile, io\n",
    "\n",
    "            print(\"Downloading RESISC45 (~625 MB)…\")\n",
    "            data = urllib.request.urlopen(url).read()\n",
    "            zipfile.ZipFile(io.BytesIO(data)).extractall(root)\n",
    "        img_dir = root / \"RESISC45\" / \"scene_images\"\n",
    "        classes = sorted([d.name for d in img_dir.iterdir() if d.is_dir()])\n",
    "        imgs = []\n",
    "        for cls_idx, cls in enumerate(classes):\n",
    "            files = sorted((img_dir / cls).glob(\"*.jpg\"))\n",
    "            split_idx = int(0.8 * len(files))\n",
    "            if split == \"train\":\n",
    "                files = files[:split_idx]\n",
    "            else:\n",
    "                files = files[split_idx:]\n",
    "            imgs.extend([(p, cls_idx) for p in files])\n",
    "        self.imgs = imgs\n",
    "        self.classes = classes\n",
    "\n",
    "    def __len__(self):\n",
    "        return len(self.imgs)\n",
    "\n",
    "    def __getitem__(self, idx):\n",
    "        path, label = self.imgs[idx]\n",
    "        img = Image.open(path).convert(\"RGB\")\n",
    "        if self.transform:\n",
    "            img = self.transform(img)\n",
    "        return img, label"
   ]
  },
  {
   "cell_type": "code",
   "execution_count": 37,
   "id": "a436f6f0",
   "metadata": {
    "colab": {
     "base_uri": "https://localhost:8080/"
    },
    "executionInfo": {
     "elapsed": 8305,
     "status": "ok",
     "timestamp": 1746199904198,
     "user": {
      "displayName": "Jay Osborne",
      "userId": "10666121051852436936"
     },
     "user_tz": -300
    },
    "id": "a436f6f0",
    "outputId": "6bbde8c9-e8d7-45e9-dc52-55869ca710d8"
   },
   "outputs": [
    {
     "name": "stdout",
     "output_type": "stream",
     "text": [
      "EuroSAT:  4320 train    5400 test   10 classes\n"
     ]
    }
   ],
   "source": [
    "from torchvision.datasets import DTD, StanfordCars, EuroSAT\n",
    "from torch.utils.data import DataLoader, Subset\n",
    "import torch, numpy as np, math\n",
    "\n",
    "torch.manual_seed(SEED)\n",
    "\n",
    "def downsample(ds, frac, seed=SEED):\n",
    "    torch.manual_seed(seed)\n",
    "\n",
    "    if frac >= 1.0:\n",
    "        return ds\n",
    "    n = math.ceil(len(ds) * frac)\n",
    "    keep = torch.randperm(len(ds))[:n]\n",
    "    return Subset(ds, keep)\n",
    "\n",
    "DATA_ROOT = \"./data\"\n",
    "def make_dataset(name, subset_frac=SUBSET_FRAC, seed=SEED):\n",
    "    if name == \"EuroSAT\":\n",
    "        # Load the full dataset once\n",
    "        full_dataset = EuroSAT(DATA_ROOT, transform=preprocess, download=True)\n",
    "        # Split into 80% train / 20% test\n",
    "        train_size = int(0.8 * len(full_dataset))\n",
    "        test_size  = len(full_dataset) - train_size\n",
    "        train, test = torch.utils.data.random_split(full_dataset, [train_size, test_size])\n",
    "    elif name == \"DTD\":\n",
    "        train = DTD(DATA_ROOT, split=\"train\",        download=True, transform=preprocess)\n",
    "        test  = DTD(DATA_ROOT, split=\"test\",         download=True, transform=preprocess)\n",
    "    elif name == \"RESISC45\":\n",
    "        train = RESISC45(DATA_ROOT, split=\"train\",   download=True, transform=preprocess)\n",
    "        test  = RESISC45(DATA_ROOT, split=\"test\",    download=False, transform=preprocess)\n",
    "    elif name == \"StanfordCars\":\n",
    "        train = StanfordCars(DATA_ROOT, split=\"train\",       download=True, transform=preprocess)\n",
    "        test  = StanfordCars(DATA_ROOT, split=\"test\",        download=True, transform=preprocess)\n",
    "    else:\n",
    "        raise ValueError(\"Unknown dataset\")\n",
    "    return downsample(train, subset_frac, seed=seed), test\n",
    "\n",
    "\n",
    "# Dirichlet split\n",
    "def create_skewed_clients(dataset, num_clients=NUM_CLIENTS, alpha=ALPHA, seed=SEED):\n",
    "    rng = np.random.default_rng(seed)\n",
    "\n",
    "    if hasattr(dataset, \"targets\"):\n",
    "        labels = np.array(dataset.targets)\n",
    "    else:\n",
    "        labels = np.array([y for _, y in dataset])\n",
    "\n",
    "    classes = np.unique(labels)\n",
    "    class_indices = [np.where(labels == c)[0] for c in classes]\n",
    "    clients = [[] for _ in range(num_clients)]\n",
    "    for class_i in class_indices:\n",
    "        rng.shuffle(class_i)\n",
    "        parts = rng.dirichlet(alpha * np.ones(num_clients))\n",
    "        splits = (np.cumsum(parts) * len(class_i)).astype(int)[:-1]\n",
    "        for cli, chunk in zip(clients, np.split(class_i, splits)):\n",
    "            cli.extend(chunk)\n",
    "    return clients, len(classes)\n",
    "\n",
    "\n",
    "train_ds, test_ds = make_dataset(DATASET)\n",
    "\n",
    "client_indices, NUM_CLASSES = create_skewed_clients(train_ds)\n",
    "make_loader = lambda subset: DataLoader(subset, batch_size=BATCH_SIZE,\n",
    "                                        shuffle=True, num_workers=2, pin_memory=True)\n",
    "train_loaders = [make_loader(Subset(train_ds, idx)) for idx in client_indices]\n",
    "\n",
    "test_loader   = DataLoader(test_ds, batch_size=256, shuffle=False,\n",
    "                            num_workers=2, pin_memory=True)\n",
    "\n",
    "print(f\"{DATASET}: {len(train_ds):5d} train   {len(test_ds):5d} test   {NUM_CLASSES} classes\")"
   ]
  },
  {
   "cell_type": "markdown",
   "id": "a7fe0ac8",
   "metadata": {
    "id": "a7fe0ac8"
   },
   "source": [
    "### 3.$\\,$ViT-Small/16 model"
   ]
  },
  {
   "cell_type": "code",
   "execution_count": 38,
   "id": "abc85106",
   "metadata": {
    "collapsed": true,
    "executionInfo": {
     "elapsed": 15,
     "status": "ok",
     "timestamp": 1746199904216,
     "user": {
      "displayName": "Jay Osborne",
      "userId": "10666121051852436936"
     },
     "user_tz": -300
    },
    "id": "abc85106"
   },
   "outputs": [],
   "source": [
    "import timm, torch.nn as nn\n",
    "\n",
    "BACKBONE_NAME = \"vit_small_patch16_224\"  # ~22 M parameters\n",
    "\n",
    "def make_classifier(num_classes: int = NUM_CLASSES):\n",
    "    model = timm.create_model(BACKBONE_NAME, pretrained=True)\n",
    "    return model"
   ]
  },
  {
   "cell_type": "markdown",
   "id": "ad4730ba",
   "metadata": {
    "id": "ad4730ba"
   },
   "source": [
    "### 4.$\\,$Train Clients"
   ]
  },
  {
   "cell_type": "code",
   "execution_count": 39,
   "id": "587947c3",
   "metadata": {
    "executionInfo": {
     "elapsed": 4,
     "status": "ok",
     "timestamp": 1746199905912,
     "user": {
      "displayName": "Jay Osborne",
      "userId": "10666121051852436936"
     },
     "user_tz": -300
    },
    "id": "587947c3"
   },
   "outputs": [],
   "source": [
    "from torch.optim import AdamW\n",
    "from torch.nn.functional import cross_entropy\n",
    "from tqdm import tqdm\n",
    "\n",
    "def train_model(model, loader, client_id, epochs=EPOCHS, device=\"cuda\"):\n",
    "    model.to(device)\n",
    "\n",
    "    opt = AdamW(model.parameters(), lr=3e-4)\n",
    "    scaler = torch.amp.GradScaler('cuda')\n",
    "\n",
    "    for ep in range(1, epochs+1):\n",
    "        model.train()\n",
    "\n",
    "        pbar = tqdm(loader, desc=f\"Client{client_id} Epoch{ep}\")\n",
    "        for x, y in pbar:\n",
    "            x, y = x.to(device, non_blocking=True), y.to(device, non_blocking=True)\n",
    "            opt.zero_grad()\n",
    "\n",
    "            with torch.amp.autocast('cuda'):\n",
    "                out = model(x)\n",
    "                loss = cross_entropy(out, y)\n",
    "            scaler.scale(loss).backward(); scaler.step(opt); scaler.update()\n",
    "\n",
    "        # Checkpoint\n",
    "        torch.save(model.state_dict(), ckpt_dir / f\"client{client_id}_ep{ep}.pt\")\n",
    "\n",
    "    return model.cpu().eval()          # leave in eval mode!"
   ]
  },
  {
   "cell_type": "code",
   "execution_count": 12,
   "id": "thvYEBj3gSN-",
   "metadata": {
    "colab": {
     "base_uri": "https://localhost:8080/",
     "height": 520,
     "referenced_widgets": [
      "c99ccfaf663c42d784ee90e728867100",
      "1074d5f63e56499e8d3549c456db4ec5",
      "cfcca90a3c314f88944d5d8db2d617a2",
      "a540f2ba5e544db4a26725da8d2ebba2",
      "23741ab540c74f0f8a22cbf555f5d2dc",
      "3101267834de422e86f33e98f1d300d4",
      "6eb680b17c3149c09394652df7d783f5",
      "aad3dc3000d8485dbf7eea2dd8cb7783",
      "80aa99a3001e48cca44029a7931dbf41",
      "852d679ae34e4143a222db7f1b8e9652",
      "e85c5120c9de4685989f8e74b24daf82"
     ]
    },
    "executionInfo": {
     "elapsed": 285745,
     "status": "ok",
     "timestamp": 1746198631145,
     "user": {
      "displayName": "Jay Osborne",
      "userId": "10666121051852436936"
     },
     "user_tz": -300
    },
    "id": "thvYEBj3gSN-",
    "outputId": "9218f727-7d6b-41b3-a362-32aae96d6e7a"
   },
   "outputs": [
    {
     "name": "stderr",
     "output_type": "stream",
     "text": [
      "/usr/local/lib/python3.11/dist-packages/huggingface_hub/utils/_auth.py:94: UserWarning: \n",
      "The secret `HF_TOKEN` does not exist in your Colab secrets.\n",
      "To authenticate with the Hugging Face Hub, create a token in your settings tab (https://huggingface.co/settings/tokens), set it as secret in your Google Colab and restart your session.\n",
      "You will be able to reuse this secret in all of your notebooks.\n",
      "Please note that authentication is recommended but still optional to access public models or datasets.\n",
      "  warnings.warn(\n"
     ]
    },
    {
     "data": {
      "application/vnd.jupyter.widget-view+json": {
       "model_id": "c99ccfaf663c42d784ee90e728867100",
       "version_major": 2,
       "version_minor": 0
      },
      "text/plain": [
       "model.safetensors:   0%|          | 0.00/88.2M [00:00<?, ?B/s]"
      ]
     },
     "metadata": {},
     "output_type": "display_data"
    },
    {
     "name": "stderr",
     "output_type": "stream",
     "text": [
      "Client0 Epoch1: 100%|██████████| 12/12 [00:04<00:00,  2.65it/s]\n",
      "Client0 Epoch2: 100%|██████████| 12/12 [00:02<00:00,  4.82it/s]\n",
      "Client0 Epoch3: 100%|██████████| 12/12 [00:02<00:00,  4.04it/s]\n",
      "Client0 Epoch4: 100%|██████████| 12/12 [00:02<00:00,  4.56it/s]\n",
      "Client1 Epoch1: 100%|██████████| 7/7 [00:01<00:00,  4.11it/s]\n",
      "Client1 Epoch2: 100%|██████████| 7/7 [00:01<00:00,  4.08it/s]\n",
      "Client1 Epoch3: 100%|██████████| 7/7 [00:02<00:00,  2.88it/s]\n",
      "Client1 Epoch4: 100%|██████████| 7/7 [00:02<00:00,  3.02it/s]\n",
      "Client2 Epoch1: 100%|██████████| 45/45 [00:09<00:00,  4.60it/s]\n",
      "Client2 Epoch2: 100%|██████████| 45/45 [00:10<00:00,  4.23it/s]\n",
      "Client2 Epoch3: 100%|██████████| 45/45 [00:08<00:00,  5.25it/s]\n",
      "Client2 Epoch4: 100%|██████████| 45/45 [00:08<00:00,  5.15it/s]\n",
      "Client3 Epoch1: 100%|██████████| 23/23 [00:05<00:00,  4.43it/s]\n",
      "Client3 Epoch2: 100%|██████████| 23/23 [00:05<00:00,  3.95it/s]\n",
      "Client3 Epoch3: 100%|██████████| 23/23 [00:05<00:00,  4.44it/s]\n",
      "Client3 Epoch4: 100%|██████████| 23/23 [00:05<00:00,  3.85it/s]\n",
      "Client4 Epoch1: 100%|██████████| 16/16 [00:03<00:00,  4.19it/s]\n",
      "Client4 Epoch2: 100%|██████████| 16/16 [00:03<00:00,  4.58it/s]\n",
      "Client4 Epoch3: 100%|██████████| 16/16 [00:03<00:00,  4.77it/s]\n",
      "Client4 Epoch4: 100%|██████████| 16/16 [00:03<00:00,  4.56it/s]\n"
     ]
    }
   ],
   "source": [
    "# Train all clients\n",
    "client_models = []\n",
    "for cid, ld in enumerate(train_loaders):\n",
    "    client_models.append(train_model(make_classifier(), ld, cid))"
   ]
  },
  {
   "cell_type": "markdown",
   "id": "pHOGtCYovimx",
   "metadata": {
    "id": "pHOGtCYovimx"
   },
   "source": [
    "#### Or load weights (state dict) from a checkpoint:"
   ]
  },
  {
   "cell_type": "code",
   "execution_count": 40,
   "id": "cBYEbdD4vmwZ",
   "metadata": {
    "executionInfo": {
     "elapsed": 4407,
     "status": "ok",
     "timestamp": 1746199913699,
     "user": {
      "displayName": "Jay Osborne",
      "userId": "10666121051852436936"
     },
     "user_tz": -300
    },
    "id": "cBYEbdD4vmwZ"
   },
   "outputs": [],
   "source": [
    "client_models = []\n",
    "ckpt_dir = pathlib.Path(ROOT_PATH) / \"checkpoints\"\n",
    "\n",
    "for cid in range(NUM_CLIENTS):\n",
    "    model = timm.create_model(BACKBONE_NAME)\n",
    "\n",
    "    client_ckpt = f\"client{cid}_ep{EPOCHS}.pt\"\n",
    "    state = torch.load(ckpt_dir / client_ckpt, map_location=\"cpu\")\n",
    "\n",
    "    model.load_state_dict(state, strict=True)\n",
    "    client_models.append(model.eval())"
   ]
  },
  {
   "cell_type": "markdown",
   "id": "-MUB7wjb4M1m",
   "metadata": {
    "id": "-MUB7wjb4M1m"
   },
   "source": [
    "#### 4a. Evaluate clients separately\n",
    "\n",
    "Let's see what are the **client accuracies** trained on **imbalanced data**:"
   ]
  },
  {
   "cell_type": "code",
   "execution_count": 41,
   "id": "0IbUtelaSOU9",
   "metadata": {
    "executionInfo": {
     "elapsed": 2,
     "status": "ok",
     "timestamp": 1746199913704,
     "user": {
      "displayName": "Jay Osborne",
      "userId": "10666121051852436936"
     },
     "user_tz": -300
    },
    "id": "0IbUtelaSOU9"
   },
   "outputs": [],
   "source": [
    "def accuracy(model):\n",
    "    model.eval().cuda()\n",
    "    preds, labels = [], []\n",
    "\n",
    "    with torch.no_grad():\n",
    "        for x, y in test_loader:\n",
    "            preds.extend(model(x.cuda()).argmax(1).cpu().numpy())\n",
    "            labels.extend(y.numpy())\n",
    "    model.cpu()\n",
    "    return (np.array(preds) == np.array(labels)).mean()"
   ]
  },
  {
   "cell_type": "code",
   "execution_count": 14,
   "id": "tbO0XdDXfIiY",
   "metadata": {
    "colab": {
     "base_uri": "https://localhost:8080/"
    },
    "executionInfo": {
     "elapsed": 93027,
     "status": "ok",
     "timestamp": 1746198724206,
     "user": {
      "displayName": "Jay Osborne",
      "userId": "10666121051852436936"
     },
     "user_tz": -300
    },
    "id": "tbO0XdDXfIiY",
    "outputId": "222d3537-2c07-4c52-a2a1-d9e690fce51f"
   },
   "outputs": [
    {
     "name": "stdout",
     "output_type": "stream",
     "text": [
      "Client local accuracies:\n",
      "  client0:  0.4728\n",
      "  client1:  0.3393\n",
      "  client2:  0.6787\n",
      "  client3:  0.6239\n",
      "  client4:  0.4211\n"
     ]
    }
   ],
   "source": [
    "import copy\n",
    "\n",
    "print(\"Client local accuracies:\")\n",
    "\n",
    "for cid, (clmodel, ld) in enumerate(zip(client_models, train_loaders)):\n",
    "    acc   = accuracy(clmodel)\n",
    "    print(f\"  client{cid}:  {acc:.4f}\")"
   ]
  },
  {
   "cell_type": "code",
   "execution_count": 15,
   "id": "CVgLHqQnZsKp",
   "metadata": {
    "colab": {
     "base_uri": "https://localhost:8080/"
    },
    "executionInfo": {
     "elapsed": 16,
     "status": "ok",
     "timestamp": 1746198724208,
     "user": {
      "displayName": "Jay Osborne",
      "userId": "10666121051852436936"
     },
     "user_tz": -300
    },
    "id": "CVgLHqQnZsKp",
    "outputId": "62f966e9-908b-4a69-df39-188a42257702"
   },
   "outputs": [
    {
     "name": "stdout",
     "output_type": "stream",
     "text": [
      "Client initial train dataset sizes:\n",
      "  client0:  764\n",
      "  client1:  447\n",
      "  client2:  2871\n",
      "  client3:  1427\n",
      "  client4:  971\n"
     ]
    }
   ],
   "source": [
    "print(\"Client initial train dataset sizes:\")\n",
    "\n",
    "for i, ld in enumerate(train_loaders):\n",
    "    print(f\"  client{i}:  {len(ld.dataset)}\")"
   ]
  },
  {
   "cell_type": "markdown",
   "id": "r5KpSR8jRTiI",
   "metadata": {
    "id": "r5KpSR8jRTiI"
   },
   "source": [
    "### 5.$\\,$Localizer"
   ]
  },
  {
   "cell_type": "code",
   "execution_count": 42,
   "id": "GOEDXKxvR9bo",
   "metadata": {
    "executionInfo": {
     "elapsed": 12,
     "status": "ok",
     "timestamp": 1746199916382,
     "user": {
      "displayName": "Jay Osborne",
      "userId": "10666121051852436936"
     },
     "user_tz": -300
    },
    "id": "GOEDXKxvR9bo"
   },
   "outputs": [],
   "source": [
    "import torch\n",
    "from typing import Dict, List\n",
    "\n",
    "class SimpleLocalizer:\n",
    "    def __init__(self, pretrained: nn.Module, finetuned: nn.Module, sparsity=0.01):\n",
    "        # δ = θ_finetuned − θ_pretrained\n",
    "        self.delta = {n: (f.detach() - p.detach())     # task vector\n",
    "                      for (n, p), (_, f) in zip(pretrained.named_parameters(),\n",
    "                                                finetuned.named_parameters())}\n",
    "\n",
    "        # Global threshold for top-k magnitude\n",
    "        all_vals = torch.cat([d.flatten().abs() for d in self.delta.values()])\n",
    "\n",
    "        # add normal noise\n",
    "        all_vals = all_vals + torch.normal(mean=0, std=torch.std(all_vals) * 0.05, size=all_vals.shape)\n",
    "\n",
    "        k = max(1, int(sparsity * all_vals.numel()))    # max() is for safety: to choose at least one\n",
    "        thresh = torch.topk(all_vals, k).values[-1]     # topk() returns [(values), (indices)] in decreasing order.\n",
    "\n",
    "        # sparse task vector τ = m ⊙ δ\n",
    "        self.task_vec = {n: (d * (d.abs() >= thresh)).clone() for n, d in self.delta.items()}\n",
    "\n",
    "    def task_vector(self):\n",
    "        return self.task_vec"
   ]
  },
  {
   "cell_type": "code",
   "execution_count": 43,
   "id": "Kv4w3qCkWzPY",
   "metadata": {
    "colab": {
     "base_uri": "https://localhost:8080/"
    },
    "executionInfo": {
     "elapsed": 20915,
     "status": "ok",
     "timestamp": 1746199939552,
     "user": {
      "displayName": "Jay Osborne",
      "userId": "10666121051852436936"
     },
     "user_tz": -300
    },
    "id": "Kv4w3qCkWzPY",
    "outputId": "2cbb60ac-1a80-4b9c-db03-f3f299316706"
   },
   "outputs": [
    {
     "name": "stdout",
     "output_type": "stream",
     "text": [
      "Localizing client 0\n",
      "Localizing client 1\n",
      "Localizing client 2\n",
      "Localizing client 3\n",
      "Localizing client 4\n"
     ]
    }
   ],
   "source": [
    "task_vectors = []\n",
    "pretrained = timm.create_model(BACKBONE_NAME, pretrained=False).eval()\n",
    "\n",
    "for cid, clmodel in enumerate(client_models):\n",
    "    print(f\"Localizing client {cid}\")\n",
    "    task_vectors.append(SimpleLocalizer(pretrained, clmodel, sparsity=0.95).task_vector())"
   ]
  },
  {
   "cell_type": "markdown",
   "id": "fa6f6579",
   "metadata": {
    "id": "fa6f6579"
   },
   "source": [
    "### 6.$\\,$Stitch task vectors\n",
    "top-k% largest magnitude weights, Yadav et al. 2023"
   ]
  },
  {
   "cell_type": "code",
   "execution_count": 44,
   "id": "9ae23d7c",
   "metadata": {
    "executionInfo": {
     "elapsed": 2,
     "status": "ok",
     "timestamp": 1746199939557,
     "user": {
      "displayName": "Jay Osborne",
      "userId": "10666121051852436936"
     },
     "user_tz": -300
    },
    "id": "9ae23d7c"
   },
   "outputs": [],
   "source": [
    "import copy\n",
    "def simpleStitcher(pretrained: nn.Module, task_vectors: List[Dict[str, torch.Tensor]]):\n",
    "    merged = pretrained.state_dict()\n",
    "\n",
    "    # given a weight w, merged[n][w] = sum(tv[n][w] for tv in task_vectors) / (the number of clients whose weight w is not zero)\n",
    "    for n in merged:\n",
    "        numer = sum(tv[n] for tv in task_vectors)\n",
    "        denom = torch.zeros_like(numer)\n",
    "        # denom += NUM_CLIENTS\n",
    "\n",
    "        # a = task_vectors[0][n] != 0\n",
    "        # denom += a\n",
    "        # print(denom);break\n",
    "\n",
    "        for tv in task_vectors:\n",
    "            denom += (tv[n] != 0)\n",
    "        denom.clamp_min_(1)\n",
    "        merged[n] += numer / denom\n",
    "\n",
    "    new_model = copy.deepcopy(pretrained)\n",
    "    new_model.load_state_dict(merged, strict=True)\n",
    "\n",
    "    return new_model.eval()"
   ]
  },
  {
   "cell_type": "code",
   "execution_count": 45,
   "id": "g7J-RpB7XCH-",
   "metadata": {
    "executionInfo": {
     "elapsed": 573,
     "status": "ok",
     "timestamp": 1746199940131,
     "user": {
      "displayName": "Jay Osborne",
      "userId": "10666121051852436936"
     },
     "user_tz": -300
    },
    "id": "g7J-RpB7XCH-"
   },
   "outputs": [],
   "source": [
    "stitched_model = simpleStitcher(pretrained, task_vectors)"
   ]
  },
  {
   "cell_type": "markdown",
   "id": "AjXoTwAXEM2t",
   "metadata": {
    "id": "AjXoTwAXEM2t"
   },
   "source": [
    "#### 6a. To simulate Multi-Round Communication merging with the LaS algorithm, FedAvg, Gaussian DP-FedAvg\n",
    "\n",
    "[RUN THE `8. Evaluation` cells FIRST]\n"
   ]
  },
  {
   "cell_type": "code",
   "execution_count": null,
   "id": "CmoGTtGWE2uX",
   "metadata": {
    "colab": {
     "base_uri": "https://localhost:8080/"
    },
    "id": "CmoGTtGWE2uX",
    "outputId": "28615b1b-5f2d-4d1c-b706-b907d9d48d1d"
   },
   "outputs": [
    {
     "name": "stderr",
     "output_type": "stream",
     "text": [
      "Client0 Epoch1: 100%|██████████| 20/20 [00:04<00:00,  4.58it/s]\n",
      "Client1 Epoch1: 100%|██████████| 13/13 [00:03<00:00,  4.27it/s]\n",
      "Client2 Epoch1: 100%|██████████| 13/13 [00:03<00:00,  3.63it/s]\n",
      "Client3 Epoch1: 100%|██████████| 14/14 [00:03<00:00,  4.26it/s]\n",
      "Client4 Epoch1: 100%|██████████| 10/10 [00:03<00:00,  3.33it/s]\n",
      "Client0 Epoch1: 100%|██████████| 20/20 [00:04<00:00,  4.27it/s]\n",
      "Client1 Epoch1: 100%|██████████| 13/13 [00:03<00:00,  3.93it/s]\n",
      "Client2 Epoch1: 100%|██████████| 13/13 [00:03<00:00,  3.58it/s]\n",
      "Client3 Epoch1: 100%|██████████| 14/14 [00:03<00:00,  3.98it/s]\n",
      "Client4 Epoch1: 100%|██████████| 10/10 [00:02<00:00,  3.52it/s]\n",
      "Client0 Epoch1: 100%|██████████| 20/20 [00:06<00:00,  3.22it/s]\n",
      "Client1 Epoch1: 100%|██████████| 13/13 [00:03<00:00,  3.98it/s]\n",
      "Client2 Epoch1: 100%|██████████| 13/13 [00:03<00:00,  3.60it/s]\n",
      "Client3 Epoch1: 100%|██████████| 14/14 [00:03<00:00,  4.15it/s]\n",
      "Client4 Epoch1: 100%|██████████| 10/10 [00:02<00:00,  3.57it/s]\n"
     ]
    },
    {
     "name": "stdout",
     "output_type": "stream",
     "text": [
      "Round 2: FedAvg acc=0.7566666666666667, LaS acc=0.7662962962962963, FedAvgNoise acc=0.6648148148148149\n"
     ]
    },
    {
     "name": "stderr",
     "output_type": "stream",
     "text": [
      "Client0 Epoch1:  21%|██        | 4/19 [00:01<00:04,  3.72it/s]"
     ]
    }
   ],
   "source": [
    "N = 11\n",
    "fedavg_accuracy = [fedavg_acc]\n",
    "stitched_accuracy = [stitched_acc]\n",
    "fedavgnoise_accuracy = [fedavgnoise_acc]\n",
    "\n",
    "# Load new train data and test data\n",
    "full_dataset = EuroSAT(DATA_ROOT, transform=preprocess, download=True)\n",
    "# Split into 80% train / 20% test\n",
    "train_size = int(0.8 * len(full_dataset))\n",
    "test_size  = len(full_dataset) - train_size\n",
    "\n",
    "torch.manual_seed(SEED)\n",
    "train, test = torch.utils.data.random_split(full_dataset, [train_size, test_size])\n",
    "\n",
    "for i in range(N):\n",
    "    # Load new train data\n",
    "    train_ds, test_ds = downsample(train, SUBSET_FRAC, seed=i+SEED), downsample(test, frac=0.50, seed=i+SEED)\n",
    "\n",
    "    client_indices, num_cls = create_skewed_clients(train_ds)\n",
    "    make_loader = lambda subset: DataLoader(subset, batch_size=BATCH_SIZE, shuffle=True, num_workers=2, pin_memory=True)\n",
    "\n",
    "    train_loaders = [make_loader(Subset(train_ds, idx)) for idx in client_indices]\n",
    "    test_loader   = DataLoader(test_ds, batch_size=256, shuffle=False, num_workers=2, pin_memory=True)\n",
    "\n",
    "    # Train\n",
    "    client_models_las = []\n",
    "    for cid, ld in enumerate(train_loaders):\n",
    "        client_models_las.append(train_model(copy.deepcopy(stitched_model), ld, cid, epochs=1))\n",
    "\n",
    "    client_models_fedavg = []\n",
    "    for cid, ld in enumerate(train_loaders):\n",
    "        client_models_fedavg.append(train_model(copy.deepcopy(fedavg_model), ld, cid, epochs=1))\n",
    "\n",
    "    client_models_fedavgnoise = []\n",
    "    for cid, ld in enumerate(train_loaders):\n",
    "        client_models_fedavgnoise.append(train_model(copy.deepcopy(fedavgnoise_model), ld, cid, epochs=1))\n",
    "\n",
    "\n",
    "    # a. FedAvg\n",
    "    fedavg_model  = weight_average(client_models_fedavg).eval()\n",
    "\n",
    "    # b. LaS algorithm\n",
    "    task_vectors = []\n",
    "    # Localize\n",
    "    for cid, clmodel in enumerate(client_models_las):\n",
    "        task_vectors.append(SimpleLocalizer(stitched_model, clmodel, sparsity=1 - 0.035*stitched_acc).task_vector())    # sparsity = 1 - µ*prev_acc\n",
    "    # Stitch\n",
    "    stitched_model = simpleStitcher(stitched_model, task_vectors)\n",
    "\n",
    "    # c. FedAvg Noise\n",
    "    fedavgnoise_model = weight_average_noise(client_models_fedavgnoise).eval()\n",
    "\n",
    "\n",
    "    # Evaluate\n",
    "    fedavg_acc = accuracy(fedavg_model)\n",
    "    stitched_acc = accuracy(stitched_model)\n",
    "    fedavgnoise_acc = accuracy(fedavgnoise_model)\n",
    "\n",
    "    fedavg_accuracy.append(fedavg_acc)\n",
    "    stitched_accuracy.append(stitched_acc)\n",
    "    fedavgnoise_accuracy.append(fedavgnoise_acc)\n",
    "\n",
    "    print(f\"Round {i+2}: FedAvg acc={fedavg_acc}, LaS acc={stitched_acc}, FedAvgNoise acc={fedavgnoise_acc}\")"
   ]
  },
  {
   "cell_type": "markdown",
   "id": "11b1402d",
   "metadata": {
    "id": "11b1402d"
   },
   "source": [
    "### 7.$\\,$ Baselines"
   ]
  },
  {
   "cell_type": "markdown",
   "id": "1GI7RDgF9cnd",
   "metadata": {
    "id": "1GI7RDgF9cnd"
   },
   "source": [
    "#### Single fine-tuned model\n",
    "\n",
    "A single model trained on the union of all client data."
   ]
  },
  {
   "cell_type": "code",
   "execution_count": null,
   "id": "49d0b966",
   "metadata": {
    "colab": {
     "base_uri": "https://localhost:8080/"
    },
    "executionInfo": {
     "elapsed": 264281,
     "status": "ok",
     "timestamp": 1746197485576,
     "user": {
      "displayName": "Firdavsbek Ismoilov",
      "userId": "04027699367216359912"
     },
     "user_tz": -300
    },
    "id": "49d0b966",
    "outputId": "283c3f65-b6be-485f-9885-e46b0de34666"
   },
   "outputs": [
    {
     "name": "stderr",
     "output_type": "stream",
     "text": [
      "ClientBaseline Epoch1: 100%|██████████| 338/338 [01:02<00:00,  5.41it/s]\n",
      "ClientBaseline Epoch2: 100%|██████████| 338/338 [01:06<00:00,  5.10it/s]\n",
      "ClientBaseline Epoch3: 100%|██████████| 338/338 [01:06<00:00,  5.05it/s]\n",
      "ClientBaseline Epoch4: 100%|██████████| 338/338 [01:06<00:00,  5.10it/s]\n"
     ]
    }
   ],
   "source": [
    "full_dataset = EuroSAT(DATA_ROOT, transform=preprocess, download=True)\n",
    "# Split into 80% train / 20% test\n",
    "train_size = int(0.8 * len(full_dataset))\n",
    "test_size  = len(full_dataset) - train_size\n",
    "train_single, test_single = torch.utils.data.random_split(full_dataset, [train_size, test_size])\n",
    "\n",
    "full_loader = DataLoader(train_single, batch_size=BATCH_SIZE, shuffle=True,\n",
    "                          num_workers=2, pin_memory=True)\n",
    "\n",
    "baseline_model = train_model(make_classifier(), full_loader, \"Baseline\", epochs=4)"
   ]
  },
  {
   "cell_type": "markdown",
   "id": "u9_sDQh5ierv",
   "metadata": {
    "id": "u9_sDQh5ierv"
   },
   "source": [
    "Or load from a checkpoint:"
   ]
  },
  {
   "cell_type": "code",
   "execution_count": null,
   "id": "AbFWUE2Bidhf",
   "metadata": {
    "colab": {
     "base_uri": "https://localhost:8080/"
    },
    "collapsed": true,
    "executionInfo": {
     "elapsed": 3839,
     "status": "ok",
     "timestamp": 1745851043749,
     "user": {
      "displayName": "Prohooper Live",
      "userId": "04148165366270825997"
     },
     "user_tz": -300
    },
    "id": "AbFWUE2Bidhf",
    "outputId": "ee2432dd-2992-4dbc-b1ae-abf69db59e31"
   },
   "outputs": [
    {
     "data": {
      "text/plain": [
       "VisionTransformer(\n",
       "  (patch_embed): PatchEmbed(\n",
       "    (proj): Conv2d(3, 384, kernel_size=(16, 16), stride=(16, 16))\n",
       "    (norm): Identity()\n",
       "  )\n",
       "  (pos_drop): Dropout(p=0.0, inplace=False)\n",
       "  (patch_drop): Identity()\n",
       "  (norm_pre): Identity()\n",
       "  (blocks): Sequential(\n",
       "    (0): Block(\n",
       "      (norm1): LayerNorm((384,), eps=1e-06, elementwise_affine=True)\n",
       "      (attn): Attention(\n",
       "        (qkv): Linear(in_features=384, out_features=1152, bias=True)\n",
       "        (q_norm): Identity()\n",
       "        (k_norm): Identity()\n",
       "        (attn_drop): Dropout(p=0.0, inplace=False)\n",
       "        (proj): Linear(in_features=384, out_features=384, bias=True)\n",
       "        (proj_drop): Dropout(p=0.0, inplace=False)\n",
       "      )\n",
       "      (ls1): Identity()\n",
       "      (drop_path1): Identity()\n",
       "      (norm2): LayerNorm((384,), eps=1e-06, elementwise_affine=True)\n",
       "      (mlp): Mlp(\n",
       "        (fc1): Linear(in_features=384, out_features=1536, bias=True)\n",
       "        (act): GELU(approximate='none')\n",
       "        (drop1): Dropout(p=0.0, inplace=False)\n",
       "        (norm): Identity()\n",
       "        (fc2): Linear(in_features=1536, out_features=384, bias=True)\n",
       "        (drop2): Dropout(p=0.0, inplace=False)\n",
       "      )\n",
       "      (ls2): Identity()\n",
       "      (drop_path2): Identity()\n",
       "    )\n",
       "    (1): Block(\n",
       "      (norm1): LayerNorm((384,), eps=1e-06, elementwise_affine=True)\n",
       "      (attn): Attention(\n",
       "        (qkv): Linear(in_features=384, out_features=1152, bias=True)\n",
       "        (q_norm): Identity()\n",
       "        (k_norm): Identity()\n",
       "        (attn_drop): Dropout(p=0.0, inplace=False)\n",
       "        (proj): Linear(in_features=384, out_features=384, bias=True)\n",
       "        (proj_drop): Dropout(p=0.0, inplace=False)\n",
       "      )\n",
       "      (ls1): Identity()\n",
       "      (drop_path1): Identity()\n",
       "      (norm2): LayerNorm((384,), eps=1e-06, elementwise_affine=True)\n",
       "      (mlp): Mlp(\n",
       "        (fc1): Linear(in_features=384, out_features=1536, bias=True)\n",
       "        (act): GELU(approximate='none')\n",
       "        (drop1): Dropout(p=0.0, inplace=False)\n",
       "        (norm): Identity()\n",
       "        (fc2): Linear(in_features=1536, out_features=384, bias=True)\n",
       "        (drop2): Dropout(p=0.0, inplace=False)\n",
       "      )\n",
       "      (ls2): Identity()\n",
       "      (drop_path2): Identity()\n",
       "    )\n",
       "    (2): Block(\n",
       "      (norm1): LayerNorm((384,), eps=1e-06, elementwise_affine=True)\n",
       "      (attn): Attention(\n",
       "        (qkv): Linear(in_features=384, out_features=1152, bias=True)\n",
       "        (q_norm): Identity()\n",
       "        (k_norm): Identity()\n",
       "        (attn_drop): Dropout(p=0.0, inplace=False)\n",
       "        (proj): Linear(in_features=384, out_features=384, bias=True)\n",
       "        (proj_drop): Dropout(p=0.0, inplace=False)\n",
       "      )\n",
       "      (ls1): Identity()\n",
       "      (drop_path1): Identity()\n",
       "      (norm2): LayerNorm((384,), eps=1e-06, elementwise_affine=True)\n",
       "      (mlp): Mlp(\n",
       "        (fc1): Linear(in_features=384, out_features=1536, bias=True)\n",
       "        (act): GELU(approximate='none')\n",
       "        (drop1): Dropout(p=0.0, inplace=False)\n",
       "        (norm): Identity()\n",
       "        (fc2): Linear(in_features=1536, out_features=384, bias=True)\n",
       "        (drop2): Dropout(p=0.0, inplace=False)\n",
       "      )\n",
       "      (ls2): Identity()\n",
       "      (drop_path2): Identity()\n",
       "    )\n",
       "    (3): Block(\n",
       "      (norm1): LayerNorm((384,), eps=1e-06, elementwise_affine=True)\n",
       "      (attn): Attention(\n",
       "        (qkv): Linear(in_features=384, out_features=1152, bias=True)\n",
       "        (q_norm): Identity()\n",
       "        (k_norm): Identity()\n",
       "        (attn_drop): Dropout(p=0.0, inplace=False)\n",
       "        (proj): Linear(in_features=384, out_features=384, bias=True)\n",
       "        (proj_drop): Dropout(p=0.0, inplace=False)\n",
       "      )\n",
       "      (ls1): Identity()\n",
       "      (drop_path1): Identity()\n",
       "      (norm2): LayerNorm((384,), eps=1e-06, elementwise_affine=True)\n",
       "      (mlp): Mlp(\n",
       "        (fc1): Linear(in_features=384, out_features=1536, bias=True)\n",
       "        (act): GELU(approximate='none')\n",
       "        (drop1): Dropout(p=0.0, inplace=False)\n",
       "        (norm): Identity()\n",
       "        (fc2): Linear(in_features=1536, out_features=384, bias=True)\n",
       "        (drop2): Dropout(p=0.0, inplace=False)\n",
       "      )\n",
       "      (ls2): Identity()\n",
       "      (drop_path2): Identity()\n",
       "    )\n",
       "    (4): Block(\n",
       "      (norm1): LayerNorm((384,), eps=1e-06, elementwise_affine=True)\n",
       "      (attn): Attention(\n",
       "        (qkv): Linear(in_features=384, out_features=1152, bias=True)\n",
       "        (q_norm): Identity()\n",
       "        (k_norm): Identity()\n",
       "        (attn_drop): Dropout(p=0.0, inplace=False)\n",
       "        (proj): Linear(in_features=384, out_features=384, bias=True)\n",
       "        (proj_drop): Dropout(p=0.0, inplace=False)\n",
       "      )\n",
       "      (ls1): Identity()\n",
       "      (drop_path1): Identity()\n",
       "      (norm2): LayerNorm((384,), eps=1e-06, elementwise_affine=True)\n",
       "      (mlp): Mlp(\n",
       "        (fc1): Linear(in_features=384, out_features=1536, bias=True)\n",
       "        (act): GELU(approximate='none')\n",
       "        (drop1): Dropout(p=0.0, inplace=False)\n",
       "        (norm): Identity()\n",
       "        (fc2): Linear(in_features=1536, out_features=384, bias=True)\n",
       "        (drop2): Dropout(p=0.0, inplace=False)\n",
       "      )\n",
       "      (ls2): Identity()\n",
       "      (drop_path2): Identity()\n",
       "    )\n",
       "    (5): Block(\n",
       "      (norm1): LayerNorm((384,), eps=1e-06, elementwise_affine=True)\n",
       "      (attn): Attention(\n",
       "        (qkv): Linear(in_features=384, out_features=1152, bias=True)\n",
       "        (q_norm): Identity()\n",
       "        (k_norm): Identity()\n",
       "        (attn_drop): Dropout(p=0.0, inplace=False)\n",
       "        (proj): Linear(in_features=384, out_features=384, bias=True)\n",
       "        (proj_drop): Dropout(p=0.0, inplace=False)\n",
       "      )\n",
       "      (ls1): Identity()\n",
       "      (drop_path1): Identity()\n",
       "      (norm2): LayerNorm((384,), eps=1e-06, elementwise_affine=True)\n",
       "      (mlp): Mlp(\n",
       "        (fc1): Linear(in_features=384, out_features=1536, bias=True)\n",
       "        (act): GELU(approximate='none')\n",
       "        (drop1): Dropout(p=0.0, inplace=False)\n",
       "        (norm): Identity()\n",
       "        (fc2): Linear(in_features=1536, out_features=384, bias=True)\n",
       "        (drop2): Dropout(p=0.0, inplace=False)\n",
       "      )\n",
       "      (ls2): Identity()\n",
       "      (drop_path2): Identity()\n",
       "    )\n",
       "    (6): Block(\n",
       "      (norm1): LayerNorm((384,), eps=1e-06, elementwise_affine=True)\n",
       "      (attn): Attention(\n",
       "        (qkv): Linear(in_features=384, out_features=1152, bias=True)\n",
       "        (q_norm): Identity()\n",
       "        (k_norm): Identity()\n",
       "        (attn_drop): Dropout(p=0.0, inplace=False)\n",
       "        (proj): Linear(in_features=384, out_features=384, bias=True)\n",
       "        (proj_drop): Dropout(p=0.0, inplace=False)\n",
       "      )\n",
       "      (ls1): Identity()\n",
       "      (drop_path1): Identity()\n",
       "      (norm2): LayerNorm((384,), eps=1e-06, elementwise_affine=True)\n",
       "      (mlp): Mlp(\n",
       "        (fc1): Linear(in_features=384, out_features=1536, bias=True)\n",
       "        (act): GELU(approximate='none')\n",
       "        (drop1): Dropout(p=0.0, inplace=False)\n",
       "        (norm): Identity()\n",
       "        (fc2): Linear(in_features=1536, out_features=384, bias=True)\n",
       "        (drop2): Dropout(p=0.0, inplace=False)\n",
       "      )\n",
       "      (ls2): Identity()\n",
       "      (drop_path2): Identity()\n",
       "    )\n",
       "    (7): Block(\n",
       "      (norm1): LayerNorm((384,), eps=1e-06, elementwise_affine=True)\n",
       "      (attn): Attention(\n",
       "        (qkv): Linear(in_features=384, out_features=1152, bias=True)\n",
       "        (q_norm): Identity()\n",
       "        (k_norm): Identity()\n",
       "        (attn_drop): Dropout(p=0.0, inplace=False)\n",
       "        (proj): Linear(in_features=384, out_features=384, bias=True)\n",
       "        (proj_drop): Dropout(p=0.0, inplace=False)\n",
       "      )\n",
       "      (ls1): Identity()\n",
       "      (drop_path1): Identity()\n",
       "      (norm2): LayerNorm((384,), eps=1e-06, elementwise_affine=True)\n",
       "      (mlp): Mlp(\n",
       "        (fc1): Linear(in_features=384, out_features=1536, bias=True)\n",
       "        (act): GELU(approximate='none')\n",
       "        (drop1): Dropout(p=0.0, inplace=False)\n",
       "        (norm): Identity()\n",
       "        (fc2): Linear(in_features=1536, out_features=384, bias=True)\n",
       "        (drop2): Dropout(p=0.0, inplace=False)\n",
       "      )\n",
       "      (ls2): Identity()\n",
       "      (drop_path2): Identity()\n",
       "    )\n",
       "    (8): Block(\n",
       "      (norm1): LayerNorm((384,), eps=1e-06, elementwise_affine=True)\n",
       "      (attn): Attention(\n",
       "        (qkv): Linear(in_features=384, out_features=1152, bias=True)\n",
       "        (q_norm): Identity()\n",
       "        (k_norm): Identity()\n",
       "        (attn_drop): Dropout(p=0.0, inplace=False)\n",
       "        (proj): Linear(in_features=384, out_features=384, bias=True)\n",
       "        (proj_drop): Dropout(p=0.0, inplace=False)\n",
       "      )\n",
       "      (ls1): Identity()\n",
       "      (drop_path1): Identity()\n",
       "      (norm2): LayerNorm((384,), eps=1e-06, elementwise_affine=True)\n",
       "      (mlp): Mlp(\n",
       "        (fc1): Linear(in_features=384, out_features=1536, bias=True)\n",
       "        (act): GELU(approximate='none')\n",
       "        (drop1): Dropout(p=0.0, inplace=False)\n",
       "        (norm): Identity()\n",
       "        (fc2): Linear(in_features=1536, out_features=384, bias=True)\n",
       "        (drop2): Dropout(p=0.0, inplace=False)\n",
       "      )\n",
       "      (ls2): Identity()\n",
       "      (drop_path2): Identity()\n",
       "    )\n",
       "    (9): Block(\n",
       "      (norm1): LayerNorm((384,), eps=1e-06, elementwise_affine=True)\n",
       "      (attn): Attention(\n",
       "        (qkv): Linear(in_features=384, out_features=1152, bias=True)\n",
       "        (q_norm): Identity()\n",
       "        (k_norm): Identity()\n",
       "        (attn_drop): Dropout(p=0.0, inplace=False)\n",
       "        (proj): Linear(in_features=384, out_features=384, bias=True)\n",
       "        (proj_drop): Dropout(p=0.0, inplace=False)\n",
       "      )\n",
       "      (ls1): Identity()\n",
       "      (drop_path1): Identity()\n",
       "      (norm2): LayerNorm((384,), eps=1e-06, elementwise_affine=True)\n",
       "      (mlp): Mlp(\n",
       "        (fc1): Linear(in_features=384, out_features=1536, bias=True)\n",
       "        (act): GELU(approximate='none')\n",
       "        (drop1): Dropout(p=0.0, inplace=False)\n",
       "        (norm): Identity()\n",
       "        (fc2): Linear(in_features=1536, out_features=384, bias=True)\n",
       "        (drop2): Dropout(p=0.0, inplace=False)\n",
       "      )\n",
       "      (ls2): Identity()\n",
       "      (drop_path2): Identity()\n",
       "    )\n",
       "    (10): Block(\n",
       "      (norm1): LayerNorm((384,), eps=1e-06, elementwise_affine=True)\n",
       "      (attn): Attention(\n",
       "        (qkv): Linear(in_features=384, out_features=1152, bias=True)\n",
       "        (q_norm): Identity()\n",
       "        (k_norm): Identity()\n",
       "        (attn_drop): Dropout(p=0.0, inplace=False)\n",
       "        (proj): Linear(in_features=384, out_features=384, bias=True)\n",
       "        (proj_drop): Dropout(p=0.0, inplace=False)\n",
       "      )\n",
       "      (ls1): Identity()\n",
       "      (drop_path1): Identity()\n",
       "      (norm2): LayerNorm((384,), eps=1e-06, elementwise_affine=True)\n",
       "      (mlp): Mlp(\n",
       "        (fc1): Linear(in_features=384, out_features=1536, bias=True)\n",
       "        (act): GELU(approximate='none')\n",
       "        (drop1): Dropout(p=0.0, inplace=False)\n",
       "        (norm): Identity()\n",
       "        (fc2): Linear(in_features=1536, out_features=384, bias=True)\n",
       "        (drop2): Dropout(p=0.0, inplace=False)\n",
       "      )\n",
       "      (ls2): Identity()\n",
       "      (drop_path2): Identity()\n",
       "    )\n",
       "    (11): Block(\n",
       "      (norm1): LayerNorm((384,), eps=1e-06, elementwise_affine=True)\n",
       "      (attn): Attention(\n",
       "        (qkv): Linear(in_features=384, out_features=1152, bias=True)\n",
       "        (q_norm): Identity()\n",
       "        (k_norm): Identity()\n",
       "        (attn_drop): Dropout(p=0.0, inplace=False)\n",
       "        (proj): Linear(in_features=384, out_features=384, bias=True)\n",
       "        (proj_drop): Dropout(p=0.0, inplace=False)\n",
       "      )\n",
       "      (ls1): Identity()\n",
       "      (drop_path1): Identity()\n",
       "      (norm2): LayerNorm((384,), eps=1e-06, elementwise_affine=True)\n",
       "      (mlp): Mlp(\n",
       "        (fc1): Linear(in_features=384, out_features=1536, bias=True)\n",
       "        (act): GELU(approximate='none')\n",
       "        (drop1): Dropout(p=0.0, inplace=False)\n",
       "        (norm): Identity()\n",
       "        (fc2): Linear(in_features=1536, out_features=384, bias=True)\n",
       "        (drop2): Dropout(p=0.0, inplace=False)\n",
       "      )\n",
       "      (ls2): Identity()\n",
       "      (drop_path2): Identity()\n",
       "    )\n",
       "  )\n",
       "  (norm): LayerNorm((384,), eps=1e-06, elementwise_affine=True)\n",
       "  (fc_norm): Identity()\n",
       "  (head_drop): Dropout(p=0.0, inplace=False)\n",
       "  (head): Linear(in_features=384, out_features=1000, bias=True)\n",
       ")"
      ]
     },
     "execution_count": 22,
     "metadata": {},
     "output_type": "execute_result"
    }
   ],
   "source": [
    "ckpt_dir = pathlib.Path(ROOT_PATH) / \"checkpoints\"\n",
    "\n",
    "baseline_model = timm.create_model(BACKBONE_NAME)\n",
    "baseline_ckpt = f\"clientBaseline_ep2.pt\"\n",
    "\n",
    "state = torch.load(ckpt_dir / baseline_ckpt, map_location=\"cpu\")\n",
    "baseline_model.load_state_dict(state, strict=True)\n"
   ]
  },
  {
   "cell_type": "markdown",
   "id": "kxPAHhdH9DUc",
   "metadata": {
    "id": "kxPAHhdH9DUc"
   },
   "source": [
    "#### FedAvg (weight average)"
   ]
  },
  {
   "cell_type": "code",
   "execution_count": 46,
   "id": "xrJQrilW9FSf",
   "metadata": {
    "executionInfo": {
     "elapsed": 1115,
     "status": "ok",
     "timestamp": 1746199941249,
     "user": {
      "displayName": "Jay Osborne",
      "userId": "10666121051852436936"
     },
     "user_tz": -300
    },
    "id": "xrJQrilW9FSf"
   },
   "outputs": [],
   "source": [
    "def weight_average(models):\n",
    "    avg = copy.deepcopy(models[0])\n",
    "    with torch.no_grad():\n",
    "        for k in avg.state_dict().keys():\n",
    "            avg.state_dict()[k].copy_(\n",
    "                sum(m.state_dict()[k] for m in models) / len(models))\n",
    "    return avg\n",
    "\n",
    "fedavg_model  = weight_average(client_models).eval()"
   ]
  },
  {
   "cell_type": "code",
   "execution_count": 47,
   "id": "KiliYfnnX2s6",
   "metadata": {
    "executionInfo": {
     "elapsed": 1675,
     "status": "ok",
     "timestamp": 1746199942925,
     "user": {
      "displayName": "Jay Osborne",
      "userId": "10666121051852436936"
     },
     "user_tz": -300
    },
    "id": "KiliYfnnX2s6"
   },
   "outputs": [],
   "source": [
    "def weight_average_noise(models):\n",
    "    avg = copy.deepcopy(models[0])\n",
    "    with torch.no_grad():\n",
    "        for k in avg.state_dict().keys():\n",
    "            avg.state_dict()[k].copy_(\n",
    "                sum(m.state_dict()[k] for m in models) / len(models)\n",
    "            )\n",
    "            # add normal noise\n",
    "            avg.state_dict()[k] += torch.normal(mean=0, std=torch.std(avg.state_dict()[k]) * 0.05, size=avg.state_dict()[k].shape)\n",
    "\n",
    "    return avg\n",
    "\n",
    "fedavgnoise_model  = weight_average_noise(client_models).eval()"
   ]
  },
  {
   "cell_type": "markdown",
   "id": "a841146a",
   "metadata": {
    "id": "a841146a"
   },
   "source": [
    "### 8.$\\,$Evaluation"
   ]
  },
  {
   "cell_type": "code",
   "execution_count": 48,
   "id": "QTEeusml-T39",
   "metadata": {
    "colab": {
     "base_uri": "https://localhost:8080/"
    },
    "executionInfo": {
     "elapsed": 18507,
     "status": "ok",
     "timestamp": 1746199961433,
     "user": {
      "displayName": "Jay Osborne",
      "userId": "10666121051852436936"
     },
     "user_tz": -300
    },
    "id": "QTEeusml-T39",
    "outputId": "d0b497cd-927c-4cb6-b485-5c4c19c98309"
   },
   "outputs": [
    {
     "data": {
      "text/plain": [
       "np.float64(0.6103703703703703)"
      ]
     },
     "execution_count": 48,
     "metadata": {},
     "output_type": "execute_result"
    }
   ],
   "source": [
    "fedavg_acc = accuracy(fedavg_model)\n",
    "fedavg_acc"
   ]
  },
  {
   "cell_type": "code",
   "execution_count": 49,
   "id": "ml3MVBMuy12S",
   "metadata": {
    "colab": {
     "base_uri": "https://localhost:8080/"
    },
    "executionInfo": {
     "elapsed": 20150,
     "status": "ok",
     "timestamp": 1746199981582,
     "user": {
      "displayName": "Jay Osborne",
      "userId": "10666121051852436936"
     },
     "user_tz": -300
    },
    "id": "ml3MVBMuy12S",
    "outputId": "29fb9300-d977-4232-ee80-693e38573d5a"
   },
   "outputs": [
    {
     "data": {
      "text/plain": [
       "np.float64(0.6137037037037038)"
      ]
     },
     "execution_count": 49,
     "metadata": {},
     "output_type": "execute_result"
    }
   ],
   "source": [
    "fedavgnoise_acc = accuracy(fedavgnoise_model)\n",
    "fedavgnoise_acc"
   ]
  },
  {
   "cell_type": "code",
   "execution_count": 50,
   "id": "m7RrlX52paJ5",
   "metadata": {
    "colab": {
     "base_uri": "https://localhost:8080/"
    },
    "executionInfo": {
     "elapsed": 18557,
     "status": "ok",
     "timestamp": 1746200000157,
     "user": {
      "displayName": "Jay Osborne",
      "userId": "10666121051852436936"
     },
     "user_tz": -300
    },
    "id": "m7RrlX52paJ5",
    "outputId": "07cda0cb-c683-4607-a21d-4631d9c119c9"
   },
   "outputs": [
    {
     "data": {
      "text/plain": [
       "np.float64(0.6107407407407407)"
      ]
     },
     "execution_count": 50,
     "metadata": {},
     "output_type": "execute_result"
    }
   ],
   "source": [
    "stitched_acc = accuracy(stitched_model)\n",
    "stitched_acc"
   ]
  },
  {
   "cell_type": "code",
   "execution_count": null,
   "id": "b5fc5595",
   "metadata": {
    "colab": {
     "base_uri": "https://localhost:8080/"
    },
    "executionInfo": {
     "elapsed": 19381,
     "status": "ok",
     "timestamp": 1746197563981,
     "user": {
      "displayName": "Firdavsbek Ismoilov",
      "userId": "04027699367216359912"
     },
     "user_tz": -300
    },
    "id": "b5fc5595",
    "outputId": "d36e319f-7163-43d5-e1c2-a01a7a5cce9f"
   },
   "outputs": [
    {
     "data": {
      "text/plain": [
       "np.float64(0.9714814814814815)"
      ]
     },
     "execution_count": 84,
     "metadata": {},
     "output_type": "execute_result"
    }
   ],
   "source": [
    "baseline_acc = accuracy(baseline_model)\n",
    "baseline_acc"
   ]
  },
  {
   "cell_type": "markdown",
   "id": "rnCw8MxOYDCS",
   "metadata": {
    "id": "rnCw8MxOYDCS"
   },
   "source": [
    "### Plot"
   ]
  },
  {
   "cell_type": "markdown",
   "id": "aARp7T3ndjcz",
   "metadata": {
    "id": "aARp7T3ndjcz"
   },
   "source": [
    "initial sparsity=0.95, LaS with Gaussian noise"
   ]
  },
  {
   "cell_type": "code",
   "execution_count": null,
   "id": "Dmh40KkdYEb3",
   "metadata": {
    "colab": {
     "base_uri": "https://localhost:8080/",
     "height": 574
    },
    "executionInfo": {
     "elapsed": 911,
     "status": "ok",
     "timestamp": 1746114827511,
     "user": {
      "displayName": "Prohooper Live",
      "userId": "04148165366270825997"
     },
     "user_tz": -300
    },
    "id": "Dmh40KkdYEb3",
    "outputId": "4b044d96-2793-4641-f924-2f54a4233e08"
   },
   "outputs": [
    {
     "data": {
      "image/png": "[encoded data removed]",
      "text/plain": [
       "<Figure size 1200x700 with 1 Axes>"
      ]
     },
     "metadata": {},
     "output_type": "display_data"
    }
   ],
   "source": [
    "import matplotlib.pyplot as plt\n",
    "\n",
    "x_values = range(1, N+2)\n",
    "\n",
    "plt.figure(figsize=(12, 7))\n",
    "plt.plot(x_values, stitched_accuracy, label='LaS', color='green', marker='o', markersize=4)\n",
    "plt.plot(x_values, fedavg_accuracy, label='FedAvg', marker='o', markersize=4)\n",
    "plt.plot(x_values, fedavgnoise_accuracy, label='FedAvgNoise', color='red', alpha=0.7, marker='o', markersize=4)\n",
    "\n",
    "\n",
    "plt.xlabel('Communication Round', fontsize='large')\n",
    "plt.ylabel('Accuracy', fontsize='large')\n",
    "plt.title('Gaussian LaS (modified) vs FedAvg vs Gaussian DP-FedAvg (initial sparsity=0.95)')\n",
    "\n",
    "# Set x-axis ticks to integers\n",
    "plt.xticks(x_values)\n",
    "\n",
    "# Set y-axis ticks with increments of 0.1\n",
    "plt.yticks([i / 10 for i in range(11)])\n",
    "plt.tick_params(axis='both', labelsize='large')  # Increase tick font size\n",
    "\n",
    "plt.ylim(0, 1)  # Set Y-axis limits from 0 to 1\n",
    "\n",
    "# Move legend lower\n",
    "plt.legend(loc='lower right', bbox_to_anchor=(1, 0.1), fontsize='large')\n",
    "plt.grid(True)\n",
    "\n",
    "# Save the plot as a vector image\n",
    "plt.savefig('comparison_gnoise.svg', format='svg')\n",
    "plt.savefig('comparison_gnoise.png', format='png')\n",
    "\n",
    "plt.show()"
   ]
  }
 ],
 "metadata": {
  "accelerator": "GPU",
  "colab": {
   "gpuType": "T4",
   "provenance": []
  },
  "kernelspec": {
   "display_name": "Python 3",
   "name": "python3"
  },
  "language_info": {
   "codemirror_mode": {
    "name": "ipython",
    "version": 3
   },
   "file_extension": ".py",
   "mimetype": "text/x-python",
   "name": "python",
   "nbconvert_exporter": "python",
   "pygments_lexer": "ipython3",
   "version": "3.13.1"
  },
  "widgets": {
   "application/vnd.jupyter.widget-state+json": {
    "1074d5f63e56499e8d3549c456db4ec5": {
     "model_module": "@jupyter-widgets/controls",
     "model_module_version": "1.5.0",
     "model_name": "HTMLModel",
     "state": {
      "_dom_classes": [],
      "_model_module": "@jupyter-widgets/controls",
      "_model_module_version": "1.5.0",
      "_model_name": "HTMLModel",
      "_view_count": null,
      "_view_module": "@jupyter-widgets/controls",
      "_view_module_version": "1.5.0",
      "_view_name": "HTMLView",
      "description": "",
      "description_tooltip": null,
      "layout": "IPY_MODEL_3101267834de422e86f33e98f1d300d4",
      "placeholder": "​",
      "style": "IPY_MODEL_6eb680b17c3149c09394652df7d783f5",
      "value": "model.safetensors: 100%"
     }
    },
    "23741ab540c74f0f8a22cbf555f5d2dc": {
     "model_module": "@jupyter-widgets/base",
     "model_module_version": "1.2.0",
     "model_name": "LayoutModel",
     "state": {
      "_model_module": "@jupyter-widgets/base",
      "_model_module_version": "1.2.0",
      "_model_name": "LayoutModel",
      "_view_count": null,
      "_view_module": "@jupyter-widgets/base",
      "_view_module_version": "1.2.0",
      "_view_name": "LayoutView",
      "align_content": null,
      "align_items": null,
      "align_self": null,
      "border": null,
      "bottom": null,
      "display": null,
      "flex": null,
      "flex_flow": null,
      "grid_area": null,
      "grid_auto_columns": null,
      "grid_auto_flow": null,
      "grid_auto_rows": null,
      "grid_column": null,
      "grid_gap": null,
      "grid_row": null,
      "grid_template_areas": null,
      "grid_template_columns": null,
      "grid_template_rows": null,
      "height": null,
      "justify_content": null,
      "justify_items": null,
      "left": null,
      "margin": null,
      "max_height": null,
      "max_width": null,
      "min_height": null,
      "min_width": null,
      "object_fit": null,
      "object_position": null,
      "order": null,
      "overflow": null,
      "overflow_x": null,
      "overflow_y": null,
      "padding": null,
      "right": null,
      "top": null,
      "visibility": null,
      "width": null
     }
    },
    "3101267834de422e86f33e98f1d300d4": {
     "model_module": "@jupyter-widgets/base",
     "model_module_version": "1.2.0",
     "model_name": "LayoutModel",
     "state": {
      "_model_module": "@jupyter-widgets/base",
      "_model_module_version": "1.2.0",
      "_model_name": "LayoutModel",
      "_view_count": null,
      "_view_module": "@jupyter-widgets/base",
      "_view_module_version": "1.2.0",
      "_view_name": "LayoutView",
      "align_content": null,
      "align_items": null,
      "align_self": null,
      "border": null,
      "bottom": null,
      "display": null,
      "flex": null,
      "flex_flow": null,
      "grid_area": null,
      "grid_auto_columns": null,
      "grid_auto_flow": null,
      "grid_auto_rows": null,
      "grid_column": null,
      "grid_gap": null,
      "grid_row": null,
      "grid_template_areas": null,
      "grid_template_columns": null,
      "grid_template_rows": null,
      "height": null,
      "justify_content": null,
      "justify_items": null,
      "left": null,
      "margin": null,
      "max_height": null,
      "max_width": null,
      "min_height": null,
      "min_width": null,
      "object_fit": null,
      "object_position": null,
      "order": null,
      "overflow": null,
      "overflow_x": null,
      "overflow_y": null,
      "padding": null,
      "right": null,
      "top": null,
      "visibility": null,
      "width": null
     }
    },
    "6eb680b17c3149c09394652df7d783f5": {
     "model_module": "@jupyter-widgets/controls",
     "model_module_version": "1.5.0",
     "model_name": "DescriptionStyleModel",
     "state": {
      "_model_module": "@jupyter-widgets/controls",
      "_model_module_version": "1.5.0",
      "_model_name": "DescriptionStyleModel",
      "_view_count": null,
      "_view_module": "@jupyter-widgets/base",
      "_view_module_version": "1.2.0",
      "_view_name": "StyleView",
      "description_width": ""
     }
    },
    "80aa99a3001e48cca44029a7931dbf41": {
     "model_module": "@jupyter-widgets/controls",
     "model_module_version": "1.5.0",
     "model_name": "ProgressStyleModel",
     "state": {
      "_model_module": "@jupyter-widgets/controls",
      "_model_module_version": "1.5.0",
      "_model_name": "ProgressStyleModel",
      "_view_count": null,
      "_view_module": "@jupyter-widgets/base",
      "_view_module_version": "1.2.0",
      "_view_name": "StyleView",
      "bar_color": null,
      "description_width": ""
     }
    },
    "852d679ae34e4143a222db7f1b8e9652": {
     "model_module": "@jupyter-widgets/base",
     "model_module_version": "1.2.0",
     "model_name": "LayoutModel",
     "state": {
      "_model_module": "@jupyter-widgets/base",
      "_model_module_version": "1.2.0",
      "_model_name": "LayoutModel",
      "_view_count": null,
      "_view_module": "@jupyter-widgets/base",
      "_view_module_version": "1.2.0",
      "_view_name": "LayoutView",
      "align_content": null,
      "align_items": null,
      "align_self": null,
      "border": null,
      "bottom": null,
      "display": null,
      "flex": null,
      "flex_flow": null,
      "grid_area": null,
      "grid_auto_columns": null,
      "grid_auto_flow": null,
      "grid_auto_rows": null,
      "grid_column": null,
      "grid_gap": null,
      "grid_row": null,
      "grid_template_areas": null,
      "grid_template_columns": null,
      "grid_template_rows": null,
      "height": null,
      "justify_content": null,
      "justify_items": null,
      "left": null,
      "margin": null,
      "max_height": null,
      "max_width": null,
      "min_height": null,
      "min_width": null,
      "object_fit": null,
      "object_position": null,
      "order": null,
      "overflow": null,
      "overflow_x": null,
      "overflow_y": null,
      "padding": null,
      "right": null,
      "top": null,
      "visibility": null,
      "width": null
     }
    },
    "a540f2ba5e544db4a26725da8d2ebba2": {
     "model_module": "@jupyter-widgets/controls",
     "model_module_version": "1.5.0",
     "model_name": "HTMLModel",
     "state": {
      "_dom_classes": [],
      "_model_module": "@jupyter-widgets/controls",
      "_model_module_version": "1.5.0",
      "_model_name": "HTMLModel",
      "_view_count": null,
      "_view_module": "@jupyter-widgets/controls",
      "_view_module_version": "1.5.0",
      "_view_name": "HTMLView",
      "description": "",
      "description_tooltip": null,
      "layout": "IPY_MODEL_852d679ae34e4143a222db7f1b8e9652",
      "placeholder": "​",
      "style": "IPY_MODEL_e85c5120c9de4685989f8e74b24daf82",
      "value": " 88.2M/88.2M [00:00&lt;00:00, 357MB/s]"
     }
    },
    "aad3dc3000d8485dbf7eea2dd8cb7783": {
     "model_module": "@jupyter-widgets/base",
     "model_module_version": "1.2.0",
     "model_name": "LayoutModel",
     "state": {
      "_model_module": "@jupyter-widgets/base",
      "_model_module_version": "1.2.0",
      "_model_name": "LayoutModel",
      "_view_count": null,
      "_view_module": "@jupyter-widgets/base",
      "_view_module_version": "1.2.0",
      "_view_name": "LayoutView",
      "align_content": null,
      "align_items": null,
      "align_self": null,
      "border": null,
      "bottom": null,
      "display": null,
      "flex": null,
      "flex_flow": null,
      "grid_area": null,
      "grid_auto_columns": null,
      "grid_auto_flow": null,
      "grid_auto_rows": null,
      "grid_column": null,
      "grid_gap": null,
      "grid_row": null,
      "grid_template_areas": null,
      "grid_template_columns": null,
      "grid_template_rows": null,
      "height": null,
      "justify_content": null,
      "justify_items": null,
      "left": null,
      "margin": null,
      "max_height": null,
      "max_width": null,
      "min_height": null,
      "min_width": null,
      "object_fit": null,
      "object_position": null,
      "order": null,
      "overflow": null,
      "overflow_x": null,
      "overflow_y": null,
      "padding": null,
      "right": null,
      "top": null,
      "visibility": null,
      "width": null
     }
    },
    "c99ccfaf663c42d784ee90e728867100": {
     "model_module": "@jupyter-widgets/controls",
     "model_module_version": "1.5.0",
     "model_name": "HBoxModel",
     "state": {
      "_dom_classes": [],
      "_model_module": "@jupyter-widgets/controls",
      "_model_module_version": "1.5.0",
      "_model_name": "HBoxModel",
      "_view_count": null,
      "_view_module": "@jupyter-widgets/controls",
      "_view_module_version": "1.5.0",
      "_view_name": "HBoxView",
      "box_style": "",
      "children": [
       "IPY_MODEL_1074d5f63e56499e8d3549c456db4ec5",
       "IPY_MODEL_cfcca90a3c314f88944d5d8db2d617a2",
       "IPY_MODEL_a540f2ba5e544db4a26725da8d2ebba2"
      ],
      "layout": "IPY_MODEL_23741ab540c74f0f8a22cbf555f5d2dc"
     }
    },
    "cfcca90a3c314f88944d5d8db2d617a2": {
     "model_module": "@jupyter-widgets/controls",
     "model_module_version": "1.5.0",
     "model_name": "FloatProgressModel",
     "state": {
      "_dom_classes": [],
      "_model_module": "@jupyter-widgets/controls",
      "_model_module_version": "1.5.0",
      "_model_name": "FloatProgressModel",
      "_view_count": null,
      "_view_module": "@jupyter-widgets/controls",
      "_view_module_version": "1.5.0",
      "_view_name": "ProgressView",
      "bar_style": "success",
      "description": "",
      "description_tooltip": null,
      "layout": "IPY_MODEL_aad3dc3000d8485dbf7eea2dd8cb7783",
      "max": 88216496,
      "min": 0,
      "orientation": "horizontal",
      "style": "IPY_MODEL_80aa99a3001e48cca44029a7931dbf41",
      "value": 88216496
     }
    },
    "e85c5120c9de4685989f8e74b24daf82": {
     "model_module": "@jupyter-widgets/controls",
     "model_module_version": "1.5.0",
     "model_name": "DescriptionStyleModel",
     "state": {
      "_model_module": "@jupyter-widgets/controls",
      "_model_module_version": "1.5.0",
      "_model_name": "DescriptionStyleModel",
      "_view_count": null,
      "_view_module": "@jupyter-widgets/base",
      "_view_module_version": "1.2.0",
      "_view_name": "StyleView",
      "description_width": ""
     }
    }
   }
  }
 },
 "nbformat": 4,
 "nbformat_minor": 5
}
