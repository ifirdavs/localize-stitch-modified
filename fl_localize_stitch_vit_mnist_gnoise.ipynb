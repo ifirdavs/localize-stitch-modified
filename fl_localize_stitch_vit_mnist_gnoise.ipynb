{
 "cells": [
  {
   "cell_type": "markdown",
   "id": "0993439f",
   "metadata": {
    "id": "0993439f"
   },
   "source": [
    "- Backbone  : ViT-Small/16 (≈22 M params, ImageNet pretrained)  \n",
    "- Clients   : 5 clinets (Dirichlet-α = 0.15 skewed)  \n",
    "- Dataset : MNIST (~60 k images)\n",
    "- Epochs    : 3 per client  |  Batch size: 64  |  Checkpoints every epoch  "
   ]
  },
  {
   "cell_type": "markdown",
   "id": "ZIwMCEY4OCmq",
   "metadata": {
    "id": "ZIwMCEY4OCmq"
   },
   "source": [
    "### 0.$\\,$Google-Drive mount (skip on local Jupyter)"
   ]
  },
  {
   "cell_type": "code",
   "execution_count": null,
   "id": "wrO1yG-WXg9U",
   "metadata": {
    "colab": {
     "base_uri": "https://localhost:8080/"
    },
    "executionInfo": {
     "elapsed": 29788,
     "status": "ok",
     "timestamp": 1746189098309,
     "user": {
      "displayName": "Jay Osborne",
      "userId": "10666121051852436936"
     },
     "user_tz": -300
    },
    "id": "wrO1yG-WXg9U",
    "outputId": "2851bf30-98a4-4ace-cc22-03e18761674a"
   },
   "outputs": [
    {
     "name": "stdout",
     "output_type": "stream",
     "text": [
      "Mounted at /content/drive\n"
     ]
    }
   ],
   "source": [
    "from google.colab import drive\n",
    "drive.mount('/content/drive')\n",
    "\n",
    "# ROOT_PATH = \"/content/drive/MyDrive/Graduation Thesis/fl_localize_stitch_vit/\"\n",
    "ROOT_PATH = \"/content/drive/Othercomputers/Victus/Disk D/New Uzb Semester 8/Graduation Thesis/fl_localize_stitch_vit/\"\n",
    "# ROOT_PATH = \"./\"              # to run locally"
   ]
  },
  {
   "cell_type": "markdown",
   "id": "ee48fc52",
   "metadata": {
    "id": "ee48fc52"
   },
   "source": [
    "#### 0a. Dependencies"
   ]
  },
  {
   "cell_type": "code",
   "execution_count": null,
   "id": "035baa83",
   "metadata": {
    "id": "035baa83"
   },
   "outputs": [],
   "source": [
    "import subprocess, sys, importlib, pathlib, os\n",
    "\n",
    "PKGS = [\"torch\", \"torchvision\", \"timm\", \"tqdm\"]\n",
    "for pkg in PKGS:\n",
    "    try:\n",
    "        importlib.import_module(pkg)\n",
    "    except ModuleNotFoundError:\n",
    "        subprocess.check_call([sys.executable, \"-m\", \"pip\", \"install\", pkg])"
   ]
  },
  {
   "cell_type": "code",
   "execution_count": null,
   "id": "YlfX6cGIYKov",
   "metadata": {
    "id": "YlfX6cGIYKov"
   },
   "outputs": [],
   "source": [
    "ROOT_PATH = pathlib.Path(ROOT_PATH).resolve()\n",
    "sys.path.extend([str(ROOT_PATH)])\n",
    "\n",
    "ckpt_dir = ROOT_PATH / \"checkpoints\"\n",
    "ckpt_dir.mkdir(exist_ok=True)"
   ]
  },
  {
   "cell_type": "markdown",
   "id": "861f21b0",
   "metadata": {
    "id": "861f21b0"
   },
   "source": [
    "### 1.$\\,$Hyper-parameters & torchvision transforms  "
   ]
  },
  {
   "cell_type": "code",
   "execution_count": null,
   "id": "9cb4ec76",
   "metadata": {
    "id": "9cb4ec76"
   },
   "outputs": [],
   "source": [
    "NUM_CLIENTS = 5\n",
    "EPOCHS      = 4\n",
    "BATCH_SIZE  = 64\n",
    "IMG_SIZE    = 224    # ViT default patch‑16 grid\n",
    "ALPHA       = 0.15   # Dirichlet concentration → stronger skew < 1, weaker skew > 1\n",
    "SUBSET_FRAC = 0.1    # 10 % of MNIST\n",
    "SEED        = 42\n",
    "\n",
    "from torchvision import transforms\n",
    "preprocess = transforms.Compose([\n",
    "    transforms.Resize(IMG_SIZE),\n",
    "    transforms.ToTensor(),\n",
    "    transforms.Lambda(lambda x: x.expand(3, -1, -1)),\n",
    "    transforms.Normalize((0.1307,)*3, (0.3081,)*3),\n",
    "])"
   ]
  },
  {
   "cell_type": "markdown",
   "id": "d5eefbcf",
   "metadata": {
    "id": "d5eefbcf"
   },
   "source": [
    "### 2.$\\,$Data loading (with sub-sampling) & skewed client splits"
   ]
  },
  {
   "cell_type": "code",
   "execution_count": null,
   "id": "a436f6f0",
   "metadata": {
    "id": "a436f6f0"
   },
   "outputs": [],
   "source": [
    "from torchvision.datasets import MNIST\n",
    "from torch.utils.data import DataLoader, Subset\n",
    "import torch, numpy as np, math\n",
    "\n",
    "def downsample(ds, frac, seed=SEED):\n",
    "    torch.manual_seed(seed)\n",
    "    if frac >= 1.0:\n",
    "        return ds\n",
    "    n = math.ceil(len(ds) * frac)\n",
    "    keep = torch.randperm(len(ds))[:n]\n",
    "    return Subset(ds, keep)\n",
    "\n",
    "DATA_ROOT = \"./data\"\n",
    "train_ds_full = MNIST(DATA_ROOT, train=True,  download=True, transform=preprocess)\n",
    "train_ds = downsample(train_ds_full, SUBSET_FRAC)\n",
    "\n",
    "test_ds  = MNIST(DATA_ROOT, train=False, download=True, transform=preprocess)\n",
    "\n",
    "# Dirichlet split\n",
    "\n",
    "def create_skewed_clients(dataset, num_clients=NUM_CLIENTS, alpha=ALPHA, seed=42):\n",
    "    rng = np.random.default_rng(seed)\n",
    "\n",
    "    labels = np.array((dataset if isinstance(dataset, MNIST) else dataset.dataset).targets)[\n",
    "        dataset.indices if isinstance(dataset, Subset) else slice(None)]\n",
    "\n",
    "    class_indices = [np.where(labels == c)[0] for c in range(10)]\n",
    "    clients = [[] for _ in range(num_clients)]\n",
    "    for class_i in class_indices:\n",
    "        rng.shuffle(class_i)\n",
    "        parts = rng.dirichlet(alpha * np.ones(num_clients))\n",
    "        splits = (np.cumsum(parts) * len(class_i)).astype(int)[:-1]\n",
    "        for cli, chunk in zip(clients, np.split(class_i, splits)):\n",
    "            cli.extend(chunk)\n",
    "    return clients\n",
    "\n",
    "client_class_i = create_skewed_clients(train_ds)\n",
    "get_loader = lambda idxs: DataLoader(Subset(train_ds, idxs), batch_size=BATCH_SIZE,\n",
    "                                     shuffle=True, num_workers=2, pin_memory=True)\n",
    "train_loaders = [get_loader(idx) for idx in client_class_i]\n",
    "\n",
    "test_loader = DataLoader(test_ds, batch_size=256, shuffle=False,\n",
    "                         num_workers=2, pin_memory=True)"
   ]
  },
  {
   "cell_type": "markdown",
   "id": "a7fe0ac8",
   "metadata": {
    "id": "a7fe0ac8"
   },
   "source": [
    "### 3.$\\,$ViT-Small/16 model"
   ]
  },
  {
   "cell_type": "code",
   "execution_count": null,
   "id": "abc85106",
   "metadata": {
    "collapsed": true,
    "id": "abc85106"
   },
   "outputs": [],
   "source": [
    "import timm, torch.nn as nn\n",
    "\n",
    "BACKBONE_NAME = \"vit_small_patch16_224\"  # ~22 M parameters\n",
    "\n",
    "def make_classifier(num_classes: int = 10):     # MNIST 10 classes\n",
    "    model = timm.create_model(BACKBONE_NAME, pretrained=True)\n",
    "    return model"
   ]
  },
  {
   "cell_type": "markdown",
   "id": "ad4730ba",
   "metadata": {
    "id": "ad4730ba"
   },
   "source": [
    "### 4.$\\,$Train Clients"
   ]
  },
  {
   "cell_type": "code",
   "execution_count": null,
   "id": "587947c3",
   "metadata": {
    "id": "587947c3"
   },
   "outputs": [],
   "source": [
    "from torch.optim import AdamW\n",
    "from torch.nn.functional import cross_entropy\n",
    "from tqdm import tqdm\n",
    "\n",
    "def train_model(model, loader, client_id, epochs=EPOCHS, device=\"cuda\"):\n",
    "    model.to(device)\n",
    "\n",
    "    opt = AdamW(model.parameters(), lr=3e-4)\n",
    "    scaler = torch.amp.GradScaler('cuda')\n",
    "\n",
    "    for ep in range(1, epochs+1):\n",
    "        model.train()\n",
    "\n",
    "        pbar = tqdm(loader, desc=f\"Client{client_id} Epoch{ep}\")\n",
    "        for x, y in pbar:\n",
    "            x, y = x.to(device, non_blocking=True), y.to(device, non_blocking=True)\n",
    "            opt.zero_grad()\n",
    "\n",
    "            with torch.amp.autocast('cuda'):\n",
    "                out = model(x)\n",
    "                loss = cross_entropy(out, y)\n",
    "            scaler.scale(loss).backward(); scaler.step(opt); scaler.update()\n",
    "\n",
    "        # Checkpoint\n",
    "        torch.save(model.state_dict(), ckpt_dir / f\"client{client_id}_ep{ep}.pt\")\n",
    "\n",
    "    return model.cpu().eval()          # leave in eval mode!"
   ]
  },
  {
   "cell_type": "code",
   "execution_count": null,
   "id": "thvYEBj3gSN-",
   "metadata": {
    "colab": {
     "base_uri": "https://localhost:8080/"
    },
    "executionInfo": {
     "elapsed": 116342,
     "status": "ok",
     "timestamp": 1746191467990,
     "user": {
      "displayName": "Jay Osborne",
      "userId": "10666121051852436936"
     },
     "user_tz": -300
    },
    "id": "thvYEBj3gSN-",
    "outputId": "4bf18ef2-335e-4055-bc5c-2a9cb163636d"
   },
   "outputs": [
    {
     "name": "stderr",
     "output_type": "stream",
     "text": [
      "Client0 Epoch1: 100%|██████████| 35/35 [00:07<00:00,  4.94it/s]\n",
      "Client0 Epoch2: 100%|██████████| 35/35 [00:06<00:00,  5.01it/s]\n",
      "Client0 Epoch3: 100%|██████████| 35/35 [00:08<00:00,  4.32it/s]\n",
      "Client0 Epoch4: 100%|██████████| 35/35 [00:06<00:00,  5.10it/s]\n",
      "Client1 Epoch1: 100%|██████████| 19/19 [00:04<00:00,  3.82it/s]\n",
      "Client1 Epoch2: 100%|██████████| 19/19 [00:04<00:00,  4.61it/s]\n",
      "Client1 Epoch3: 100%|██████████| 19/19 [00:04<00:00,  4.45it/s]\n",
      "Client1 Epoch4: 100%|██████████| 19/19 [00:04<00:00,  4.22it/s]\n",
      "Client2 Epoch1: 100%|██████████| 17/17 [00:03<00:00,  4.73it/s]\n",
      "Client2 Epoch2: 100%|██████████| 17/17 [00:04<00:00,  4.10it/s]\n",
      "Client2 Epoch3: 100%|██████████| 17/17 [00:03<00:00,  4.48it/s]\n",
      "Client2 Epoch4: 100%|██████████| 17/17 [00:03<00:00,  4.59it/s]\n",
      "Client3 Epoch1: 100%|██████████| 13/13 [00:03<00:00,  3.37it/s]\n",
      "Client3 Epoch2: 100%|██████████| 13/13 [00:03<00:00,  4.32it/s]\n",
      "Client3 Epoch3: 100%|██████████| 13/13 [00:03<00:00,  3.92it/s]\n",
      "Client3 Epoch4: 100%|██████████| 13/13 [00:03<00:00,  3.89it/s]\n",
      "Client4 Epoch1: 100%|██████████| 13/13 [00:03<00:00,  3.91it/s]\n",
      "Client4 Epoch2: 100%|██████████| 13/13 [00:03<00:00,  4.18it/s]\n",
      "Client4 Epoch3: 100%|██████████| 13/13 [00:03<00:00,  3.86it/s]\n",
      "Client4 Epoch4: 100%|██████████| 13/13 [00:03<00:00,  4.25it/s]\n"
     ]
    }
   ],
   "source": [
    "# Train all clients\n",
    "client_models = []\n",
    "for cid, ld in enumerate(train_loaders):\n",
    "    client_models.append(train_model(make_classifier(), ld, cid))"
   ]
  },
  {
   "cell_type": "markdown",
   "id": "pHOGtCYovimx",
   "metadata": {
    "id": "pHOGtCYovimx"
   },
   "source": [
    "#### Or load weights (state dict) from a checkpoint:"
   ]
  },
  {
   "cell_type": "code",
   "execution_count": null,
   "id": "cBYEbdD4vmwZ",
   "metadata": {
    "id": "cBYEbdD4vmwZ"
   },
   "outputs": [],
   "source": [
    "client_models = []\n",
    "ckpt_dir = pathlib.Path(ROOT_PATH) / \"checkpoints\"\n",
    "\n",
    "for cid in range(NUM_CLIENTS):\n",
    "    model = timm.create_model(BACKBONE_NAME)\n",
    "\n",
    "    client_ckpt = f\"client{cid}_ep{EPOCHS}.pt\"\n",
    "    state = torch.load(ckpt_dir / client_ckpt, map_location=\"cpu\")\n",
    "\n",
    "    model.load_state_dict(state, strict=True)\n",
    "    client_models.append(model.eval())"
   ]
  },
  {
   "cell_type": "markdown",
   "id": "-MUB7wjb4M1m",
   "metadata": {
    "id": "-MUB7wjb4M1m"
   },
   "source": [
    "#### 4a. Evaluate clients separately\n",
    "\n",
    "Let's see what are the **client accuracies** trained on **imbalanced data**:"
   ]
  },
  {
   "cell_type": "code",
   "execution_count": null,
   "id": "0IbUtelaSOU9",
   "metadata": {
    "id": "0IbUtelaSOU9"
   },
   "outputs": [],
   "source": [
    "def accuracy(model):\n",
    "    model.eval().cuda()\n",
    "    preds, labels = [], []\n",
    "\n",
    "    with torch.no_grad():\n",
    "        for x, y in test_loader:\n",
    "            preds.extend(model(x.cuda()).argmax(1).cpu().numpy())\n",
    "            labels.extend(y.numpy())\n",
    "    model.cpu()\n",
    "    return (np.array(preds) == np.array(labels)).mean()"
   ]
  },
  {
   "cell_type": "code",
   "execution_count": null,
   "id": "tbO0XdDXfIiY",
   "metadata": {
    "colab": {
     "base_uri": "https://localhost:8080/"
    },
    "executionInfo": {
     "elapsed": 151766,
     "status": "ok",
     "timestamp": 1746191619778,
     "user": {
      "displayName": "Jay Osborne",
      "userId": "10666121051852436936"
     },
     "user_tz": -300
    },
    "id": "tbO0XdDXfIiY",
    "outputId": "1cc87ebc-a1d0-4f67-f28b-402f7aed88e3"
   },
   "outputs": [
    {
     "name": "stdout",
     "output_type": "stream",
     "text": [
      "Client local accuracies:\n",
      "  client0:  0.7439\n",
      "  client1:  0.4497\n",
      "  client2:  0.1980\n",
      "  client3:  0.0958\n",
      "  client4:  0.0892\n"
     ]
    }
   ],
   "source": [
    "import copy\n",
    "\n",
    "print(\"Client local accuracies:\")\n",
    "\n",
    "for cid, (clmodel, ld) in enumerate(zip(client_models, train_loaders)):\n",
    "    acc   = accuracy(clmodel)\n",
    "    print(f\"  client{cid}:  {acc:.4f}\")"
   ]
  },
  {
   "cell_type": "markdown",
   "id": "r5KpSR8jRTiI",
   "metadata": {
    "id": "r5KpSR8jRTiI"
   },
   "source": [
    "### 5.$\\,$Localizer"
   ]
  },
  {
   "cell_type": "code",
   "execution_count": null,
   "id": "GOEDXKxvR9bo",
   "metadata": {
    "id": "GOEDXKxvR9bo"
   },
   "outputs": [],
   "source": [
    "import torch\n",
    "from typing import Dict, List\n",
    "\n",
    "class SimpleLocalizer:\n",
    "    def __init__(self, pretrained: nn.Module, finetuned: nn.Module, K=0.95):\n",
    "        # δ = θ_finetuned − θ_pretrained\n",
    "        self.delta = {n: (f.detach() - p.detach())     # task vector\n",
    "                      for (n, p), (_, f) in zip(pretrained.named_parameters(),\n",
    "                                                finetuned.named_parameters())}\n",
    "\n",
    "        # Global threshold for top-k magnitude\n",
    "        all_vals = torch.cat([d.flatten().abs() for d in self.delta.values()])\n",
    "\n",
    "        # add normal noise\n",
    "        all_vals = all_vals + torch.normal(mean=0, std=torch.std(all_vals) * 0.05, size=all_vals.shape)\n",
    "\n",
    "        k = max(1, int(K * all_vals.numel()))    # max() is for safety: to choose at least one\n",
    "        thresh = torch.topk(all_vals, k).values[-1]     # topk() returns [(values), (indices)] in decreasing order.\n",
    "\n",
    "        # sparse task vector τ = m ⊙ δ\n",
    "        self.task_vec = {n: (d * (d.abs() >= thresh)).clone() for n, d in self.delta.items()}\n",
    "\n",
    "    def task_vector(self):\n",
    "        return self.task_vec"
   ]
  },
  {
   "cell_type": "code",
   "execution_count": null,
   "id": "Kv4w3qCkWzPY",
   "metadata": {
    "colab": {
     "base_uri": "https://localhost:8080/"
    },
    "executionInfo": {
     "elapsed": 20589,
     "status": "ok",
     "timestamp": 1746192470748,
     "user": {
      "displayName": "Jay Osborne",
      "userId": "10666121051852436936"
     },
     "user_tz": -300
    },
    "id": "Kv4w3qCkWzPY",
    "outputId": "665c4f5c-6dd1-4da8-b020-0e4a21fb5209"
   },
   "outputs": [
    {
     "name": "stdout",
     "output_type": "stream",
     "text": [
      "Localizing client 0\n",
      "Localizing client 1\n",
      "Localizing client 2\n",
      "Localizing client 3\n",
      "Localizing client 4\n"
     ]
    }
   ],
   "source": [
    "task_vectors = []\n",
    "pretrained = timm.create_model(BACKBONE_NAME, pretrained=False).eval()\n",
    "\n",
    "for cid, clmodel in enumerate(client_models):\n",
    "    print(f\"Localizing client {cid}\")\n",
    "    task_vectors.append(SimpleLocalizer(pretrained, clmodel, K=0.95).task_vector())"
   ]
  },
  {
   "cell_type": "markdown",
   "id": "fa6f6579",
   "metadata": {
    "id": "fa6f6579"
   },
   "source": [
    "### 6.$\\,$Stitch task vectors\n",
    "top-k% largest magnitude weights, Yadav et al. 2023"
   ]
  },
  {
   "cell_type": "code",
   "execution_count": null,
   "id": "9ae23d7c",
   "metadata": {
    "id": "9ae23d7c"
   },
   "outputs": [],
   "source": [
    "import copy\n",
    "def simpleStitcher(pretrained: nn.Module, task_vectors: List[Dict[str, torch.Tensor]]):\n",
    "    merged = pretrained.state_dict()\n",
    "\n",
    "    # given a weight w, merged[n][w] = sum(tv[n][w] for tv in task_vectors) / (the number of clients whose weight w is not zero)\n",
    "    for n in merged:\n",
    "        numer = sum(tv[n] for tv in task_vectors)\n",
    "        denom = torch.zeros_like(numer)\n",
    "        # denom += NUM_CLIENTS\n",
    "\n",
    "        # a = task_vectors[0][n] != 0\n",
    "        # denom += a\n",
    "        # print(denom);break\n",
    "\n",
    "        for tv in task_vectors:\n",
    "            denom += (tv[n] != 0)\n",
    "        denom.clamp_min_(1)\n",
    "        merged[n] += numer / denom\n",
    "\n",
    "    new_model = copy.deepcopy(pretrained)\n",
    "    new_model.load_state_dict(merged, strict=True)\n",
    "\n",
    "    return new_model.eval()"
   ]
  },
  {
   "cell_type": "code",
   "execution_count": null,
   "id": "g7J-RpB7XCH-",
   "metadata": {
    "id": "g7J-RpB7XCH-"
   },
   "outputs": [],
   "source": [
    "stitched_model = simpleStitcher(pretrained, task_vectors)"
   ]
  },
  {
   "cell_type": "markdown",
   "id": "AjXoTwAXEM2t",
   "metadata": {
    "id": "AjXoTwAXEM2t"
   },
   "source": [
    "#### 6a. To simulate Multi-Round Communication merging with the LaS algorithm, FedAvg, Gaussian DP-FedAvg\n",
    "\n",
    "[RUN THE `8. Evaluation` cells FIRST]\n"
   ]
  },
  {
   "cell_type": "code",
   "execution_count": null,
   "id": "CmoGTtGWE2uX",
   "metadata": {
    "colab": {
     "base_uri": "https://localhost:8080/"
    },
    "executionInfo": {
     "elapsed": 2051724,
     "status": "ok",
     "timestamp": 1746194615848,
     "user": {
      "displayName": "Jay Osborne",
      "userId": "10666121051852436936"
     },
     "user_tz": -300
    },
    "id": "CmoGTtGWE2uX",
    "outputId": "a6e43bfe-924e-4081-e1a8-d5ddc76f2720"
   },
   "outputs": [
    {
     "name": "stderr",
     "output_type": "stream",
     "text": [
      "Client0 Epoch1: 100%|██████████| 35/35 [00:07<00:00,  4.99it/s]\n",
      "Client1 Epoch1: 100%|██████████| 19/19 [00:03<00:00,  4.83it/s]\n",
      "Client2 Epoch1: 100%|██████████| 17/17 [00:03<00:00,  4.30it/s]\n",
      "Client3 Epoch1: 100%|██████████| 13/13 [00:02<00:00,  4.35it/s]\n",
      "Client4 Epoch1: 100%|██████████| 13/13 [00:03<00:00,  3.60it/s]\n",
      "Client0 Epoch1: 100%|██████████| 35/35 [00:08<00:00,  4.35it/s]\n",
      "Client1 Epoch1: 100%|██████████| 19/19 [00:04<00:00,  4.68it/s]\n",
      "Client2 Epoch1: 100%|██████████| 17/17 [00:03<00:00,  4.59it/s]\n",
      "Client3 Epoch1: 100%|██████████| 13/13 [00:03<00:00,  4.19it/s]\n",
      "Client4 Epoch1: 100%|██████████| 13/13 [00:03<00:00,  3.75it/s]\n",
      "Client0 Epoch1: 100%|██████████| 35/35 [00:06<00:00,  5.04it/s]\n",
      "Client1 Epoch1: 100%|██████████| 19/19 [00:04<00:00,  4.72it/s]\n",
      "Client2 Epoch1: 100%|██████████| 17/17 [00:04<00:00,  4.05it/s]\n",
      "Client3 Epoch1: 100%|██████████| 13/13 [00:03<00:00,  4.24it/s]\n",
      "Client4 Epoch1: 100%|██████████| 13/13 [00:03<00:00,  3.97it/s]\n"
     ]
    },
    {
     "name": "stdout",
     "output_type": "stream",
     "text": [
      "Round 2: FedAvg acc=0.116, LaS acc=0.14066666666666666, FedAvgNoise acc=0.17333333333333334\n"
     ]
    },
    {
     "name": "stderr",
     "output_type": "stream",
     "text": [
      "Client0 Epoch1: 100%|██████████| 22/22 [00:04<00:00,  4.49it/s]\n",
      "Client1 Epoch1: 100%|██████████| 11/11 [00:02<00:00,  4.24it/s]\n",
      "Client2 Epoch1: 100%|██████████| 20/20 [00:04<00:00,  4.86it/s]\n",
      "Client3 Epoch1: 100%|██████████| 22/22 [00:05<00:00,  4.32it/s]\n",
      "Client4 Epoch1: 100%|██████████| 22/22 [00:05<00:00,  4.14it/s]\n",
      "Client0 Epoch1: 100%|██████████| 22/22 [00:04<00:00,  4.90it/s]\n",
      "Client1 Epoch1: 100%|██████████| 11/11 [00:02<00:00,  4.02it/s]\n",
      "Client2 Epoch1: 100%|██████████| 20/20 [00:04<00:00,  4.11it/s]\n",
      "Client3 Epoch1: 100%|██████████| 22/22 [00:04<00:00,  4.64it/s]\n",
      "Client4 Epoch1: 100%|██████████| 22/22 [00:04<00:00,  4.79it/s]\n",
      "Client0 Epoch1: 100%|██████████| 22/22 [00:04<00:00,  4.77it/s]\n",
      "Client1 Epoch1: 100%|██████████| 11/11 [00:03<00:00,  3.53it/s]\n",
      "Client2 Epoch1: 100%|██████████| 20/20 [00:04<00:00,  4.43it/s]\n",
      "Client3 Epoch1: 100%|██████████| 22/22 [00:04<00:00,  4.93it/s]\n",
      "Client4 Epoch1: 100%|██████████| 22/22 [00:04<00:00,  4.98it/s]\n"
     ]
    },
    {
     "name": "stdout",
     "output_type": "stream",
     "text": [
      "Round 3: FedAvg acc=0.6363333333333333, LaS acc=0.76, FedAvgNoise acc=0.6173333333333333\n"
     ]
    },
    {
     "name": "stderr",
     "output_type": "stream",
     "text": [
      "Client0 Epoch1: 100%|██████████| 13/13 [00:02<00:00,  4.47it/s]\n",
      "Client1 Epoch1: 100%|██████████| 28/28 [00:05<00:00,  4.79it/s]\n",
      "Client2 Epoch1: 100%|██████████| 3/3 [00:01<00:00,  2.53it/s]\n",
      "Client3 Epoch1: 100%|██████████| 31/31 [00:06<00:00,  4.77it/s]\n",
      "Client4 Epoch1: 100%|██████████| 21/21 [00:04<00:00,  4.36it/s]\n",
      "Client0 Epoch1: 100%|██████████| 13/13 [00:03<00:00,  4.27it/s]\n",
      "Client1 Epoch1: 100%|██████████| 28/28 [00:05<00:00,  4.85it/s]\n",
      "Client2 Epoch1: 100%|██████████| 3/3 [00:01<00:00,  2.62it/s]\n",
      "Client3 Epoch1: 100%|██████████| 31/31 [00:06<00:00,  4.71it/s]\n",
      "Client4 Epoch1: 100%|██████████| 21/21 [00:04<00:00,  4.76it/s]\n",
      "Client0 Epoch1: 100%|██████████| 13/13 [00:02<00:00,  4.46it/s]\n",
      "Client1 Epoch1: 100%|██████████| 28/28 [00:06<00:00,  4.46it/s]\n",
      "Client2 Epoch1: 100%|██████████| 3/3 [00:01<00:00,  2.59it/s]\n",
      "Client3 Epoch1: 100%|██████████| 31/31 [00:06<00:00,  4.48it/s]\n",
      "Client4 Epoch1: 100%|██████████| 21/21 [00:04<00:00,  4.45it/s]\n"
     ]
    },
    {
     "name": "stdout",
     "output_type": "stream",
     "text": [
      "Round 4: FedAvg acc=0.88, LaS acc=0.9453333333333334, FedAvgNoise acc=0.8673333333333333\n"
     ]
    },
    {
     "name": "stderr",
     "output_type": "stream",
     "text": [
      "Client0 Epoch1: 100%|██████████| 19/19 [00:04<00:00,  4.59it/s]\n",
      "Client1 Epoch1: 100%|██████████| 20/20 [00:04<00:00,  4.94it/s]\n",
      "Client2 Epoch1: 100%|██████████| 19/19 [00:04<00:00,  4.02it/s]\n",
      "Client3 Epoch1: 100%|██████████| 19/19 [00:04<00:00,  4.66it/s]\n",
      "Client4 Epoch1: 100%|██████████| 20/20 [00:04<00:00,  4.61it/s]\n",
      "Client0 Epoch1: 100%|██████████| 19/19 [00:04<00:00,  4.05it/s]\n",
      "Client1 Epoch1: 100%|██████████| 20/20 [00:04<00:00,  4.71it/s]\n",
      "Client2 Epoch1: 100%|██████████| 19/19 [00:03<00:00,  4.86it/s]\n",
      "Client3 Epoch1: 100%|██████████| 19/19 [00:03<00:00,  4.77it/s]\n",
      "Client4 Epoch1: 100%|██████████| 20/20 [00:04<00:00,  4.65it/s]\n",
      "Client0 Epoch1: 100%|██████████| 19/19 [00:04<00:00,  4.37it/s]\n",
      "Client1 Epoch1: 100%|██████████| 20/20 [00:04<00:00,  4.69it/s]\n",
      "Client2 Epoch1: 100%|██████████| 19/19 [00:04<00:00,  4.62it/s]\n",
      "Client3 Epoch1: 100%|██████████| 19/19 [00:04<00:00,  4.39it/s]\n",
      "Client4 Epoch1: 100%|██████████| 20/20 [00:04<00:00,  4.63it/s]\n"
     ]
    },
    {
     "name": "stdout",
     "output_type": "stream",
     "text": [
      "Round 5: FedAvg acc=0.9606666666666667, LaS acc=0.9613333333333334, FedAvgNoise acc=0.9643333333333334\n"
     ]
    },
    {
     "name": "stderr",
     "output_type": "stream",
     "text": [
      "Client0 Epoch1: 100%|██████████| 36/36 [00:07<00:00,  4.94it/s]\n",
      "Client1 Epoch1: 100%|██████████| 15/15 [00:03<00:00,  4.64it/s]\n",
      "Client2 Epoch1: 100%|██████████| 11/11 [00:02<00:00,  4.01it/s]\n",
      "Client3 Epoch1: 100%|██████████| 18/18 [00:03<00:00,  4.51it/s]\n",
      "Client4 Epoch1: 100%|██████████| 15/15 [00:03<00:00,  4.45it/s]\n",
      "Client0 Epoch1: 100%|██████████| 36/36 [00:07<00:00,  4.63it/s]\n",
      "Client1 Epoch1: 100%|██████████| 15/15 [00:03<00:00,  4.15it/s]\n",
      "Client2 Epoch1: 100%|██████████| 11/11 [00:02<00:00,  3.90it/s]\n",
      "Client3 Epoch1: 100%|██████████| 18/18 [00:04<00:00,  3.70it/s]\n",
      "Client4 Epoch1: 100%|██████████| 15/15 [00:03<00:00,  4.50it/s]\n",
      "Client0 Epoch1: 100%|██████████| 36/36 [00:07<00:00,  4.81it/s]\n",
      "Client1 Epoch1: 100%|██████████| 15/15 [00:03<00:00,  3.80it/s]\n",
      "Client2 Epoch1: 100%|██████████| 11/11 [00:02<00:00,  4.06it/s]\n",
      "Client3 Epoch1: 100%|██████████| 18/18 [00:03<00:00,  4.69it/s]\n",
      "Client4 Epoch1: 100%|██████████| 15/15 [00:03<00:00,  4.34it/s]\n"
     ]
    },
    {
     "name": "stdout",
     "output_type": "stream",
     "text": [
      "Round 6: FedAvg acc=0.976, LaS acc=0.98, FedAvgNoise acc=0.9763333333333334\n"
     ]
    },
    {
     "name": "stderr",
     "output_type": "stream",
     "text": [
      "Client0 Epoch1: 100%|██████████| 8/8 [00:02<00:00,  3.71it/s]\n",
      "Client1 Epoch1: 100%|██████████| 20/20 [00:04<00:00,  4.67it/s]\n",
      "Client2 Epoch1: 100%|██████████| 35/35 [00:07<00:00,  4.90it/s]\n",
      "Client3 Epoch1: 100%|██████████| 22/22 [00:04<00:00,  4.75it/s]\n",
      "Client4 Epoch1: 100%|██████████| 10/10 [00:02<00:00,  4.40it/s]\n",
      "Client0 Epoch1: 100%|██████████| 8/8 [00:02<00:00,  3.06it/s]\n",
      "Client1 Epoch1: 100%|██████████| 20/20 [00:04<00:00,  4.75it/s]\n",
      "Client2 Epoch1: 100%|██████████| 35/35 [00:07<00:00,  4.57it/s]\n",
      "Client3 Epoch1: 100%|██████████| 22/22 [00:04<00:00,  4.61it/s]\n",
      "Client4 Epoch1: 100%|██████████| 10/10 [00:02<00:00,  3.91it/s]\n",
      "Client0 Epoch1: 100%|██████████| 8/8 [00:02<00:00,  3.83it/s]\n",
      "Client1 Epoch1: 100%|██████████| 20/20 [00:04<00:00,  4.22it/s]\n",
      "Client2 Epoch1: 100%|██████████| 35/35 [00:07<00:00,  4.85it/s]\n",
      "Client3 Epoch1: 100%|██████████| 22/22 [00:04<00:00,  4.83it/s]\n",
      "Client4 Epoch1: 100%|██████████| 10/10 [00:02<00:00,  4.25it/s]\n"
     ]
    },
    {
     "name": "stdout",
     "output_type": "stream",
     "text": [
      "Round 7: FedAvg acc=0.9846666666666667, LaS acc=0.9856666666666667, FedAvgNoise acc=0.9813333333333333\n"
     ]
    },
    {
     "name": "stderr",
     "output_type": "stream",
     "text": [
      "Client0 Epoch1: 100%|██████████| 27/27 [00:05<00:00,  4.93it/s]\n",
      "Client1 Epoch1: 100%|██████████| 27/27 [00:05<00:00,  5.03it/s]\n",
      "Client2 Epoch1: 100%|██████████| 10/10 [00:02<00:00,  3.43it/s]\n",
      "Client3 Epoch1: 100%|██████████| 3/3 [00:01<00:00,  2.44it/s]\n",
      "Client4 Epoch1: 100%|██████████| 29/29 [00:06<00:00,  4.73it/s]\n",
      "Client0 Epoch1: 100%|██████████| 27/27 [00:05<00:00,  4.77it/s]\n",
      "Client1 Epoch1: 100%|██████████| 27/27 [00:05<00:00,  5.05it/s]\n",
      "Client2 Epoch1: 100%|██████████| 10/10 [00:02<00:00,  4.06it/s]\n",
      "Client3 Epoch1: 100%|██████████| 3/3 [00:01<00:00,  2.82it/s]\n",
      "Client4 Epoch1: 100%|██████████| 29/29 [00:06<00:00,  4.67it/s]\n",
      "Client0 Epoch1: 100%|██████████| 27/27 [00:06<00:00,  4.46it/s]\n",
      "Client1 Epoch1: 100%|██████████| 27/27 [00:05<00:00,  4.78it/s]\n",
      "Client2 Epoch1: 100%|██████████| 10/10 [00:02<00:00,  4.31it/s]\n",
      "Client3 Epoch1: 100%|██████████| 3/3 [00:01<00:00,  2.11it/s]\n",
      "Client4 Epoch1: 100%|██████████| 29/29 [00:06<00:00,  4.80it/s]\n"
     ]
    },
    {
     "name": "stdout",
     "output_type": "stream",
     "text": [
      "Round 8: FedAvg acc=0.985, LaS acc=0.9833333333333333, FedAvgNoise acc=0.9836666666666667\n"
     ]
    },
    {
     "name": "stderr",
     "output_type": "stream",
     "text": [
      "Client0 Epoch1: 100%|██████████| 9/9 [00:02<00:00,  4.11it/s]\n",
      "Client1 Epoch1: 100%|██████████| 18/18 [00:04<00:00,  4.32it/s]\n",
      "Client2 Epoch1: 100%|██████████| 21/21 [00:04<00:00,  4.56it/s]\n",
      "Client3 Epoch1: 100%|██████████| 11/11 [00:02<00:00,  4.41it/s]\n",
      "Client4 Epoch1: 100%|██████████| 37/37 [00:07<00:00,  5.08it/s]\n",
      "Client0 Epoch1: 100%|██████████| 9/9 [00:02<00:00,  3.30it/s]\n",
      "Client1 Epoch1: 100%|██████████| 18/18 [00:04<00:00,  4.29it/s]\n",
      "Client2 Epoch1: 100%|██████████| 21/21 [00:04<00:00,  4.82it/s]\n",
      "Client3 Epoch1: 100%|██████████| 11/11 [00:02<00:00,  3.98it/s]\n",
      "Client4 Epoch1: 100%|██████████| 37/37 [00:07<00:00,  5.01it/s]\n",
      "Client0 Epoch1: 100%|██████████| 9/9 [00:02<00:00,  3.98it/s]\n",
      "Client1 Epoch1: 100%|██████████| 18/18 [00:04<00:00,  4.37it/s]\n",
      "Client2 Epoch1: 100%|██████████| 21/21 [00:04<00:00,  4.58it/s]\n",
      "Client3 Epoch1: 100%|██████████| 11/11 [00:03<00:00,  3.58it/s]\n",
      "Client4 Epoch1: 100%|██████████| 37/37 [00:07<00:00,  4.90it/s]\n"
     ]
    },
    {
     "name": "stdout",
     "output_type": "stream",
     "text": [
      "Round 9: FedAvg acc=0.9866666666666667, LaS acc=0.9906666666666667, FedAvgNoise acc=0.984\n"
     ]
    },
    {
     "name": "stderr",
     "output_type": "stream",
     "text": [
      "Client0 Epoch1: 100%|██████████| 10/10 [00:02<00:00,  4.21it/s]\n",
      "Client1 Epoch1: 100%|██████████| 34/34 [00:06<00:00,  5.03it/s]\n",
      "Client2 Epoch1: 100%|██████████| 18/18 [00:03<00:00,  4.82it/s]\n",
      "Client3 Epoch1: 100%|██████████| 20/20 [00:04<00:00,  4.27it/s]\n",
      "Client4 Epoch1: 100%|██████████| 15/15 [00:03<00:00,  4.36it/s]\n",
      "Client0 Epoch1: 100%|██████████| 10/10 [00:02<00:00,  4.21it/s]\n",
      "Client1 Epoch1: 100%|██████████| 34/34 [00:07<00:00,  4.67it/s]\n",
      "Client2 Epoch1: 100%|██████████| 18/18 [00:03<00:00,  4.60it/s]\n",
      "Client3 Epoch1: 100%|██████████| 20/20 [00:04<00:00,  4.59it/s]\n",
      "Client4 Epoch1: 100%|██████████| 15/15 [00:03<00:00,  4.62it/s]\n",
      "Client0 Epoch1: 100%|██████████| 10/10 [00:02<00:00,  3.47it/s]\n",
      "Client1 Epoch1: 100%|██████████| 34/34 [00:06<00:00,  5.03it/s]\n",
      "Client2 Epoch1: 100%|██████████| 18/18 [00:03<00:00,  4.69it/s]\n",
      "Client3 Epoch1: 100%|██████████| 20/20 [00:04<00:00,  4.09it/s]\n",
      "Client4 Epoch1: 100%|██████████| 15/15 [00:03<00:00,  4.45it/s]\n"
     ]
    },
    {
     "name": "stdout",
     "output_type": "stream",
     "text": [
      "Round 10: FedAvg acc=0.99, LaS acc=0.9903333333333333, FedAvgNoise acc=0.9856666666666667\n"
     ]
    },
    {
     "name": "stderr",
     "output_type": "stream",
     "text": [
      "Client0 Epoch1: 100%|██████████| 15/15 [00:03<00:00,  4.49it/s]\n",
      "Client1 Epoch1: 100%|██████████| 25/25 [00:05<00:00,  4.74it/s]\n",
      "Client2 Epoch1: 100%|██████████| 15/15 [00:03<00:00,  4.31it/s]\n",
      "Client3 Epoch1: 100%|██████████| 18/18 [00:04<00:00,  3.82it/s]\n",
      "Client4 Epoch1: 100%|██████████| 24/24 [00:05<00:00,  4.50it/s]\n",
      "Client0 Epoch1: 100%|██████████| 15/15 [00:03<00:00,  4.51it/s]\n",
      "Client1 Epoch1: 100%|██████████| 25/25 [00:05<00:00,  4.55it/s]\n",
      "Client2 Epoch1: 100%|██████████| 15/15 [00:03<00:00,  4.66it/s]\n",
      "Client3 Epoch1: 100%|██████████| 18/18 [00:04<00:00,  4.35it/s]\n",
      "Client4 Epoch1: 100%|██████████| 24/24 [00:05<00:00,  4.71it/s]\n",
      "Client0 Epoch1: 100%|██████████| 15/15 [00:03<00:00,  4.50it/s]\n",
      "Client1 Epoch1: 100%|██████████| 25/25 [00:05<00:00,  4.89it/s]\n",
      "Client2 Epoch1: 100%|██████████| 15/15 [00:03<00:00,  4.58it/s]\n",
      "Client3 Epoch1: 100%|██████████| 18/18 [00:03<00:00,  4.88it/s]\n",
      "Client4 Epoch1: 100%|██████████| 24/24 [00:05<00:00,  4.21it/s]\n"
     ]
    },
    {
     "name": "stdout",
     "output_type": "stream",
     "text": [
      "Round 11: FedAvg acc=0.988, LaS acc=0.989, FedAvgNoise acc=0.9873333333333333\n"
     ]
    },
    {
     "name": "stderr",
     "output_type": "stream",
     "text": [
      "Client0 Epoch1: 100%|██████████| 26/26 [00:05<00:00,  4.52it/s]\n",
      "Client1 Epoch1: 100%|██████████| 19/19 [00:03<00:00,  4.83it/s]\n",
      "Client2 Epoch1: 100%|██████████| 12/12 [00:03<00:00,  3.77it/s]\n",
      "Client3 Epoch1: 100%|██████████| 19/19 [00:03<00:00,  4.79it/s]\n",
      "Client4 Epoch1: 100%|██████████| 20/20 [00:04<00:00,  4.07it/s]\n",
      "Client0 Epoch1: 100%|██████████| 26/26 [00:05<00:00,  4.82it/s]\n",
      "Client1 Epoch1: 100%|██████████| 19/19 [00:03<00:00,  4.89it/s]\n",
      "Client2 Epoch1: 100%|██████████| 12/12 [00:03<00:00,  3.66it/s]\n",
      "Client3 Epoch1: 100%|██████████| 19/19 [00:04<00:00,  4.38it/s]\n",
      "Client4 Epoch1: 100%|██████████| 20/20 [00:04<00:00,  4.54it/s]\n",
      "Client0 Epoch1: 100%|██████████| 26/26 [00:05<00:00,  4.76it/s]\n",
      "Client1 Epoch1: 100%|██████████| 19/19 [00:04<00:00,  4.71it/s]\n",
      "Client2 Epoch1: 100%|██████████| 12/12 [00:03<00:00,  3.54it/s]\n",
      "Client3 Epoch1: 100%|██████████| 19/19 [00:04<00:00,  4.42it/s]\n",
      "Client4 Epoch1: 100%|██████████| 20/20 [00:04<00:00,  4.62it/s]\n"
     ]
    },
    {
     "name": "stdout",
     "output_type": "stream",
     "text": [
      "Round 12: FedAvg acc=0.9906666666666667, LaS acc=0.9923333333333333, FedAvgNoise acc=0.9873333333333333\n"
     ]
    }
   ],
   "source": [
    "N = 11\n",
    "fedavg_accuracy = [fedavg_acc]\n",
    "stitched_accuracy = [stitched_acc]\n",
    "fedavgnoise_accuracy = [fedavgnoise_acc]\n",
    "\n",
    "for i in range(N):\n",
    "    # Load new train data\n",
    "    client_class_i = create_skewed_clients(downsample(train_ds_full, SUBSET_FRAC, seed=i+SEED))\n",
    "    get_loader = lambda idxs: DataLoader(Subset(train_ds, idxs), batch_size=BATCH_SIZE,\n",
    "                                        shuffle=True, num_workers=2, pin_memory=True)\n",
    "    train_loaders = [get_loader(idx) for idx in client_class_i]\n",
    "    test_loader = DataLoader(downsample(test_ds, frac=0.30, seed=i+SEED), batch_size=256, shuffle=False, num_workers=2, pin_memory=True)\n",
    "\n",
    "    # Train\n",
    "    client_models_las = []\n",
    "    for cid, ld in enumerate(train_loaders):\n",
    "        client_models_las.append(train_model(copy.deepcopy(stitched_model), ld, cid, epochs=1))\n",
    "\n",
    "    client_models_fedavg = []\n",
    "    for cid, ld in enumerate(train_loaders):\n",
    "        client_models_fedavg.append(train_model(copy.deepcopy(fedavg_model), ld, cid, epochs=1))\n",
    "\n",
    "    client_models_fedavgnoise = []\n",
    "    for cid, ld in enumerate(train_loaders):\n",
    "        client_models_fedavgnoise.append(train_model(copy.deepcopy(fedavgnoise_model), ld, cid, epochs=1))\n",
    "\n",
    "\n",
    "    # a. FedAvg\n",
    "    fedavg_model  = weight_average(client_models_fedavg).eval()\n",
    "\n",
    "    # b. LaS algorithm\n",
    "    task_vectors = []\n",
    "    # Localize\n",
    "    for cid, clmodel in enumerate(client_models_las):\n",
    "        task_vectors.append(SimpleLocalizer(stitched_model, clmodel, K=1 - 0.035*stitched_acc).task_vector())    # K = 1 - µ*prev_acc\n",
    "    # Stitch\n",
    "    stitched_model = simpleStitcher(stitched_model, task_vectors)\n",
    "\n",
    "    # c. FedAvg Noise\n",
    "    fedavgnoise_model = weight_average_noise(client_models_fedavgnoise).eval()\n",
    "\n",
    "\n",
    "    # Evaluate\n",
    "    fedavg_acc = accuracy(fedavg_model)\n",
    "    stitched_acc = accuracy(stitched_model)\n",
    "    fedavgnoise_acc = accuracy(fedavgnoise_model)\n",
    "\n",
    "    fedavg_accuracy.append(fedavg_acc)\n",
    "    stitched_accuracy.append(stitched_acc)\n",
    "    fedavgnoise_accuracy.append(fedavgnoise_acc)\n",
    "\n",
    "    print(f\"Round {i+2}: FedAvg acc={fedavg_acc}, LaS acc={stitched_acc}, FedAvgNoise acc={fedavgnoise_acc}\")"
   ]
  },
  {
   "cell_type": "markdown",
   "id": "11b1402d",
   "metadata": {
    "id": "11b1402d"
   },
   "source": [
    "### 7.$\\,$ Baselines"
   ]
  },
  {
   "cell_type": "markdown",
   "id": "1GI7RDgF9cnd",
   "metadata": {
    "id": "1GI7RDgF9cnd"
   },
   "source": [
    "#### Single fine-tuned model\n",
    "\n",
    "A single model trained on the union of all client data."
   ]
  },
  {
   "cell_type": "code",
   "execution_count": null,
   "id": "49d0b966",
   "metadata": {
    "colab": {
     "base_uri": "https://localhost:8080/"
    },
    "executionInfo": {
     "elapsed": 79798,
     "status": "ok",
     "timestamp": 1746008793253,
     "user": {
      "displayName": "Firdavsbek Ismoilov",
      "userId": "04027699367216359912"
     },
     "user_tz": -300
    },
    "id": "49d0b966",
    "outputId": "940a4531-2734-498f-849a-05969b0d6a3a"
   },
   "outputs": [
    {
     "name": "stderr",
     "output_type": "stream",
     "text": [
      "ClientBaseline Epoch1: 100%|██████████| 94/94 [00:18<00:00,  4.96it/s]\n",
      "ClientBaseline Epoch2: 100%|██████████| 94/94 [00:20<00:00,  4.66it/s]\n",
      "ClientBaseline Epoch3: 100%|██████████| 94/94 [00:19<00:00,  4.87it/s]\n",
      "ClientBaseline Epoch4: 100%|██████████| 94/94 [00:18<00:00,  5.13it/s]\n"
     ]
    }
   ],
   "source": [
    "union_loader = DataLoader(train_ds, batch_size=BATCH_SIZE, shuffle=True,\n",
    "                          num_workers=2, pin_memory=True)    # data loader on the whole dataset (which is the union of all clients datasets)\n",
    "\n",
    "baseline_model = train_model(make_classifier(), union_loader, \"Baseline\", epochs=4)"
   ]
  },
  {
   "cell_type": "markdown",
   "id": "u9_sDQh5ierv",
   "metadata": {
    "id": "u9_sDQh5ierv"
   },
   "source": [
    "Or load from a checkpoint:"
   ]
  },
  {
   "cell_type": "code",
   "execution_count": null,
   "id": "AbFWUE2Bidhf",
   "metadata": {
    "colab": {
     "base_uri": "https://localhost:8080/"
    },
    "collapsed": true,
    "executionInfo": {
     "elapsed": 3839,
     "status": "ok",
     "timestamp": 1745851043749,
     "user": {
      "displayName": "Prohooper Live",
      "userId": "04148165366270825997"
     },
     "user_tz": -300
    },
    "id": "AbFWUE2Bidhf",
    "outputId": "ee2432dd-2992-4dbc-b1ae-abf69db59e31"
   },
   "outputs": [
    {
     "data": {
      "text/plain": [
       "VisionTransformer(\n",
       "  (patch_embed): PatchEmbed(\n",
       "    (proj): Conv2d(3, 384, kernel_size=(16, 16), stride=(16, 16))\n",
       "    (norm): Identity()\n",
       "  )\n",
       "  (pos_drop): Dropout(p=0.0, inplace=False)\n",
       "  (patch_drop): Identity()\n",
       "  (norm_pre): Identity()\n",
       "  (blocks): Sequential(\n",
       "    (0): Block(\n",
       "      (norm1): LayerNorm((384,), eps=1e-06, elementwise_affine=True)\n",
       "      (attn): Attention(\n",
       "        (qkv): Linear(in_features=384, out_features=1152, bias=True)\n",
       "        (q_norm): Identity()\n",
       "        (k_norm): Identity()\n",
       "        (attn_drop): Dropout(p=0.0, inplace=False)\n",
       "        (proj): Linear(in_features=384, out_features=384, bias=True)\n",
       "        (proj_drop): Dropout(p=0.0, inplace=False)\n",
       "      )\n",
       "      (ls1): Identity()\n",
       "      (drop_path1): Identity()\n",
       "      (norm2): LayerNorm((384,), eps=1e-06, elementwise_affine=True)\n",
       "      (mlp): Mlp(\n",
       "        (fc1): Linear(in_features=384, out_features=1536, bias=True)\n",
       "        (act): GELU(approximate='none')\n",
       "        (drop1): Dropout(p=0.0, inplace=False)\n",
       "        (norm): Identity()\n",
       "        (fc2): Linear(in_features=1536, out_features=384, bias=True)\n",
       "        (drop2): Dropout(p=0.0, inplace=False)\n",
       "      )\n",
       "      (ls2): Identity()\n",
       "      (drop_path2): Identity()\n",
       "    )\n",
       "    (1): Block(\n",
       "      (norm1): LayerNorm((384,), eps=1e-06, elementwise_affine=True)\n",
       "      (attn): Attention(\n",
       "        (qkv): Linear(in_features=384, out_features=1152, bias=True)\n",
       "        (q_norm): Identity()\n",
       "        (k_norm): Identity()\n",
       "        (attn_drop): Dropout(p=0.0, inplace=False)\n",
       "        (proj): Linear(in_features=384, out_features=384, bias=True)\n",
       "        (proj_drop): Dropout(p=0.0, inplace=False)\n",
       "      )\n",
       "      (ls1): Identity()\n",
       "      (drop_path1): Identity()\n",
       "      (norm2): LayerNorm((384,), eps=1e-06, elementwise_affine=True)\n",
       "      (mlp): Mlp(\n",
       "        (fc1): Linear(in_features=384, out_features=1536, bias=True)\n",
       "        (act): GELU(approximate='none')\n",
       "        (drop1): Dropout(p=0.0, inplace=False)\n",
       "        (norm): Identity()\n",
       "        (fc2): Linear(in_features=1536, out_features=384, bias=True)\n",
       "        (drop2): Dropout(p=0.0, inplace=False)\n",
       "      )\n",
       "      (ls2): Identity()\n",
       "      (drop_path2): Identity()\n",
       "    )\n",
       "    (2): Block(\n",
       "      (norm1): LayerNorm((384,), eps=1e-06, elementwise_affine=True)\n",
       "      (attn): Attention(\n",
       "        (qkv): Linear(in_features=384, out_features=1152, bias=True)\n",
       "        (q_norm): Identity()\n",
       "        (k_norm): Identity()\n",
       "        (attn_drop): Dropout(p=0.0, inplace=False)\n",
       "        (proj): Linear(in_features=384, out_features=384, bias=True)\n",
       "        (proj_drop): Dropout(p=0.0, inplace=False)\n",
       "      )\n",
       "      (ls1): Identity()\n",
       "      (drop_path1): Identity()\n",
       "      (norm2): LayerNorm((384,), eps=1e-06, elementwise_affine=True)\n",
       "      (mlp): Mlp(\n",
       "        (fc1): Linear(in_features=384, out_features=1536, bias=True)\n",
       "        (act): GELU(approximate='none')\n",
       "        (drop1): Dropout(p=0.0, inplace=False)\n",
       "        (norm): Identity()\n",
       "        (fc2): Linear(in_features=1536, out_features=384, bias=True)\n",
       "        (drop2): Dropout(p=0.0, inplace=False)\n",
       "      )\n",
       "      (ls2): Identity()\n",
       "      (drop_path2): Identity()\n",
       "    )\n",
       "    (3): Block(\n",
       "      (norm1): LayerNorm((384,), eps=1e-06, elementwise_affine=True)\n",
       "      (attn): Attention(\n",
       "        (qkv): Linear(in_features=384, out_features=1152, bias=True)\n",
       "        (q_norm): Identity()\n",
       "        (k_norm): Identity()\n",
       "        (attn_drop): Dropout(p=0.0, inplace=False)\n",
       "        (proj): Linear(in_features=384, out_features=384, bias=True)\n",
       "        (proj_drop): Dropout(p=0.0, inplace=False)\n",
       "      )\n",
       "      (ls1): Identity()\n",
       "      (drop_path1): Identity()\n",
       "      (norm2): LayerNorm((384,), eps=1e-06, elementwise_affine=True)\n",
       "      (mlp): Mlp(\n",
       "        (fc1): Linear(in_features=384, out_features=1536, bias=True)\n",
       "        (act): GELU(approximate='none')\n",
       "        (drop1): Dropout(p=0.0, inplace=False)\n",
       "        (norm): Identity()\n",
       "        (fc2): Linear(in_features=1536, out_features=384, bias=True)\n",
       "        (drop2): Dropout(p=0.0, inplace=False)\n",
       "      )\n",
       "      (ls2): Identity()\n",
       "      (drop_path2): Identity()\n",
       "    )\n",
       "    (4): Block(\n",
       "      (norm1): LayerNorm((384,), eps=1e-06, elementwise_affine=True)\n",
       "      (attn): Attention(\n",
       "        (qkv): Linear(in_features=384, out_features=1152, bias=True)\n",
       "        (q_norm): Identity()\n",
       "        (k_norm): Identity()\n",
       "        (attn_drop): Dropout(p=0.0, inplace=False)\n",
       "        (proj): Linear(in_features=384, out_features=384, bias=True)\n",
       "        (proj_drop): Dropout(p=0.0, inplace=False)\n",
       "      )\n",
       "      (ls1): Identity()\n",
       "      (drop_path1): Identity()\n",
       "      (norm2): LayerNorm((384,), eps=1e-06, elementwise_affine=True)\n",
       "      (mlp): Mlp(\n",
       "        (fc1): Linear(in_features=384, out_features=1536, bias=True)\n",
       "        (act): GELU(approximate='none')\n",
       "        (drop1): Dropout(p=0.0, inplace=False)\n",
       "        (norm): Identity()\n",
       "        (fc2): Linear(in_features=1536, out_features=384, bias=True)\n",
       "        (drop2): Dropout(p=0.0, inplace=False)\n",
       "      )\n",
       "      (ls2): Identity()\n",
       "      (drop_path2): Identity()\n",
       "    )\n",
       "    (5): Block(\n",
       "      (norm1): LayerNorm((384,), eps=1e-06, elementwise_affine=True)\n",
       "      (attn): Attention(\n",
       "        (qkv): Linear(in_features=384, out_features=1152, bias=True)\n",
       "        (q_norm): Identity()\n",
       "        (k_norm): Identity()\n",
       "        (attn_drop): Dropout(p=0.0, inplace=False)\n",
       "        (proj): Linear(in_features=384, out_features=384, bias=True)\n",
       "        (proj_drop): Dropout(p=0.0, inplace=False)\n",
       "      )\n",
       "      (ls1): Identity()\n",
       "      (drop_path1): Identity()\n",
       "      (norm2): LayerNorm((384,), eps=1e-06, elementwise_affine=True)\n",
       "      (mlp): Mlp(\n",
       "        (fc1): Linear(in_features=384, out_features=1536, bias=True)\n",
       "        (act): GELU(approximate='none')\n",
       "        (drop1): Dropout(p=0.0, inplace=False)\n",
       "        (norm): Identity()\n",
       "        (fc2): Linear(in_features=1536, out_features=384, bias=True)\n",
       "        (drop2): Dropout(p=0.0, inplace=False)\n",
       "      )\n",
       "      (ls2): Identity()\n",
       "      (drop_path2): Identity()\n",
       "    )\n",
       "    (6): Block(\n",
       "      (norm1): LayerNorm((384,), eps=1e-06, elementwise_affine=True)\n",
       "      (attn): Attention(\n",
       "        (qkv): Linear(in_features=384, out_features=1152, bias=True)\n",
       "        (q_norm): Identity()\n",
       "        (k_norm): Identity()\n",
       "        (attn_drop): Dropout(p=0.0, inplace=False)\n",
       "        (proj): Linear(in_features=384, out_features=384, bias=True)\n",
       "        (proj_drop): Dropout(p=0.0, inplace=False)\n",
       "      )\n",
       "      (ls1): Identity()\n",
       "      (drop_path1): Identity()\n",
       "      (norm2): LayerNorm((384,), eps=1e-06, elementwise_affine=True)\n",
       "      (mlp): Mlp(\n",
       "        (fc1): Linear(in_features=384, out_features=1536, bias=True)\n",
       "        (act): GELU(approximate='none')\n",
       "        (drop1): Dropout(p=0.0, inplace=False)\n",
       "        (norm): Identity()\n",
       "        (fc2): Linear(in_features=1536, out_features=384, bias=True)\n",
       "        (drop2): Dropout(p=0.0, inplace=False)\n",
       "      )\n",
       "      (ls2): Identity()\n",
       "      (drop_path2): Identity()\n",
       "    )\n",
       "    (7): Block(\n",
       "      (norm1): LayerNorm((384,), eps=1e-06, elementwise_affine=True)\n",
       "      (attn): Attention(\n",
       "        (qkv): Linear(in_features=384, out_features=1152, bias=True)\n",
       "        (q_norm): Identity()\n",
       "        (k_norm): Identity()\n",
       "        (attn_drop): Dropout(p=0.0, inplace=False)\n",
       "        (proj): Linear(in_features=384, out_features=384, bias=True)\n",
       "        (proj_drop): Dropout(p=0.0, inplace=False)\n",
       "      )\n",
       "      (ls1): Identity()\n",
       "      (drop_path1): Identity()\n",
       "      (norm2): LayerNorm((384,), eps=1e-06, elementwise_affine=True)\n",
       "      (mlp): Mlp(\n",
       "        (fc1): Linear(in_features=384, out_features=1536, bias=True)\n",
       "        (act): GELU(approximate='none')\n",
       "        (drop1): Dropout(p=0.0, inplace=False)\n",
       "        (norm): Identity()\n",
       "        (fc2): Linear(in_features=1536, out_features=384, bias=True)\n",
       "        (drop2): Dropout(p=0.0, inplace=False)\n",
       "      )\n",
       "      (ls2): Identity()\n",
       "      (drop_path2): Identity()\n",
       "    )\n",
       "    (8): Block(\n",
       "      (norm1): LayerNorm((384,), eps=1e-06, elementwise_affine=True)\n",
       "      (attn): Attention(\n",
       "        (qkv): Linear(in_features=384, out_features=1152, bias=True)\n",
       "        (q_norm): Identity()\n",
       "        (k_norm): Identity()\n",
       "        (attn_drop): Dropout(p=0.0, inplace=False)\n",
       "        (proj): Linear(in_features=384, out_features=384, bias=True)\n",
       "        (proj_drop): Dropout(p=0.0, inplace=False)\n",
       "      )\n",
       "      (ls1): Identity()\n",
       "      (drop_path1): Identity()\n",
       "      (norm2): LayerNorm((384,), eps=1e-06, elementwise_affine=True)\n",
       "      (mlp): Mlp(\n",
       "        (fc1): Linear(in_features=384, out_features=1536, bias=True)\n",
       "        (act): GELU(approximate='none')\n",
       "        (drop1): Dropout(p=0.0, inplace=False)\n",
       "        (norm): Identity()\n",
       "        (fc2): Linear(in_features=1536, out_features=384, bias=True)\n",
       "        (drop2): Dropout(p=0.0, inplace=False)\n",
       "      )\n",
       "      (ls2): Identity()\n",
       "      (drop_path2): Identity()\n",
       "    )\n",
       "    (9): Block(\n",
       "      (norm1): LayerNorm((384,), eps=1e-06, elementwise_affine=True)\n",
       "      (attn): Attention(\n",
       "        (qkv): Linear(in_features=384, out_features=1152, bias=True)\n",
       "        (q_norm): Identity()\n",
       "        (k_norm): Identity()\n",
       "        (attn_drop): Dropout(p=0.0, inplace=False)\n",
       "        (proj): Linear(in_features=384, out_features=384, bias=True)\n",
       "        (proj_drop): Dropout(p=0.0, inplace=False)\n",
       "      )\n",
       "      (ls1): Identity()\n",
       "      (drop_path1): Identity()\n",
       "      (norm2): LayerNorm((384,), eps=1e-06, elementwise_affine=True)\n",
       "      (mlp): Mlp(\n",
       "        (fc1): Linear(in_features=384, out_features=1536, bias=True)\n",
       "        (act): GELU(approximate='none')\n",
       "        (drop1): Dropout(p=0.0, inplace=False)\n",
       "        (norm): Identity()\n",
       "        (fc2): Linear(in_features=1536, out_features=384, bias=True)\n",
       "        (drop2): Dropout(p=0.0, inplace=False)\n",
       "      )\n",
       "      (ls2): Identity()\n",
       "      (drop_path2): Identity()\n",
       "    )\n",
       "    (10): Block(\n",
       "      (norm1): LayerNorm((384,), eps=1e-06, elementwise_affine=True)\n",
       "      (attn): Attention(\n",
       "        (qkv): Linear(in_features=384, out_features=1152, bias=True)\n",
       "        (q_norm): Identity()\n",
       "        (k_norm): Identity()\n",
       "        (attn_drop): Dropout(p=0.0, inplace=False)\n",
       "        (proj): Linear(in_features=384, out_features=384, bias=True)\n",
       "        (proj_drop): Dropout(p=0.0, inplace=False)\n",
       "      )\n",
       "      (ls1): Identity()\n",
       "      (drop_path1): Identity()\n",
       "      (norm2): LayerNorm((384,), eps=1e-06, elementwise_affine=True)\n",
       "      (mlp): Mlp(\n",
       "        (fc1): Linear(in_features=384, out_features=1536, bias=True)\n",
       "        (act): GELU(approximate='none')\n",
       "        (drop1): Dropout(p=0.0, inplace=False)\n",
       "        (norm): Identity()\n",
       "        (fc2): Linear(in_features=1536, out_features=384, bias=True)\n",
       "        (drop2): Dropout(p=0.0, inplace=False)\n",
       "      )\n",
       "      (ls2): Identity()\n",
       "      (drop_path2): Identity()\n",
       "    )\n",
       "    (11): Block(\n",
       "      (norm1): LayerNorm((384,), eps=1e-06, elementwise_affine=True)\n",
       "      (attn): Attention(\n",
       "        (qkv): Linear(in_features=384, out_features=1152, bias=True)\n",
       "        (q_norm): Identity()\n",
       "        (k_norm): Identity()\n",
       "        (attn_drop): Dropout(p=0.0, inplace=False)\n",
       "        (proj): Linear(in_features=384, out_features=384, bias=True)\n",
       "        (proj_drop): Dropout(p=0.0, inplace=False)\n",
       "      )\n",
       "      (ls1): Identity()\n",
       "      (drop_path1): Identity()\n",
       "      (norm2): LayerNorm((384,), eps=1e-06, elementwise_affine=True)\n",
       "      (mlp): Mlp(\n",
       "        (fc1): Linear(in_features=384, out_features=1536, bias=True)\n",
       "        (act): GELU(approximate='none')\n",
       "        (drop1): Dropout(p=0.0, inplace=False)\n",
       "        (norm): Identity()\n",
       "        (fc2): Linear(in_features=1536, out_features=384, bias=True)\n",
       "        (drop2): Dropout(p=0.0, inplace=False)\n",
       "      )\n",
       "      (ls2): Identity()\n",
       "      (drop_path2): Identity()\n",
       "    )\n",
       "  )\n",
       "  (norm): LayerNorm((384,), eps=1e-06, elementwise_affine=True)\n",
       "  (fc_norm): Identity()\n",
       "  (head_drop): Dropout(p=0.0, inplace=False)\n",
       "  (head): Linear(in_features=384, out_features=1000, bias=True)\n",
       ")"
      ]
     },
     "execution_count": 22,
     "metadata": {},
     "output_type": "execute_result"
    }
   ],
   "source": [
    "ckpt_dir = pathlib.Path(ROOT_PATH) / \"checkpoints\"\n",
    "\n",
    "baseline_model = timm.create_model(BACKBONE_NAME)\n",
    "baseline_ckpt = f\"clientBaseline_ep2.pt\"\n",
    "\n",
    "state = torch.load(ckpt_dir / baseline_ckpt, map_location=\"cpu\")\n",
    "baseline_model.load_state_dict(state, strict=True)\n"
   ]
  },
  {
   "cell_type": "markdown",
   "id": "kxPAHhdH9DUc",
   "metadata": {
    "id": "kxPAHhdH9DUc"
   },
   "source": [
    "#### FedAvg (weight average)"
   ]
  },
  {
   "cell_type": "code",
   "execution_count": null,
   "id": "xrJQrilW9FSf",
   "metadata": {
    "id": "xrJQrilW9FSf"
   },
   "outputs": [],
   "source": [
    "def weight_average(models):\n",
    "    avg = copy.deepcopy(models[0])\n",
    "    with torch.no_grad():\n",
    "        for k in avg.state_dict().keys():\n",
    "            avg.state_dict()[k].copy_(\n",
    "                sum(m.state_dict()[k] for m in models) / len(models))\n",
    "    return avg\n",
    "\n",
    "fedavg_model  = weight_average(client_models).eval()"
   ]
  },
  {
   "cell_type": "code",
   "execution_count": null,
   "id": "KiliYfnnX2s6",
   "metadata": {
    "id": "KiliYfnnX2s6"
   },
   "outputs": [],
   "source": [
    "def weight_average_noise(models):\n",
    "    avg = copy.deepcopy(models[0])\n",
    "    with torch.no_grad():\n",
    "        for k in avg.state_dict().keys():\n",
    "            avg.state_dict()[k].copy_(\n",
    "                sum(m.state_dict()[k] for m in models) / len(models)\n",
    "            )\n",
    "            # add normal noise\n",
    "            avg.state_dict()[k] += torch.normal(mean=0, std=torch.std(avg.state_dict()[k]) * 0.05, size=avg.state_dict()[k].shape)\n",
    "\n",
    "    return avg\n",
    "\n",
    "fedavgnoise_model  = weight_average_noise(client_models).eval()"
   ]
  },
  {
   "cell_type": "markdown",
   "id": "a841146a",
   "metadata": {
    "id": "a841146a"
   },
   "source": [
    "### 8.$\\,$Evaluation"
   ]
  },
  {
   "cell_type": "code",
   "execution_count": null,
   "id": "QTEeusml-T39",
   "metadata": {
    "colab": {
     "base_uri": "https://localhost:8080/"
    },
    "executionInfo": {
     "elapsed": 30026,
     "status": "ok",
     "timestamp": 1746192503990,
     "user": {
      "displayName": "Jay Osborne",
      "userId": "10666121051852436936"
     },
     "user_tz": -300
    },
    "id": "QTEeusml-T39",
    "outputId": "872c4ec8-e878-4c48-8f80-a57a6be10f2b"
   },
   "outputs": [
    {
     "data": {
      "text/plain": [
       "np.float64(0.1637)"
      ]
     },
     "execution_count": 93,
     "metadata": {},
     "output_type": "execute_result"
    }
   ],
   "source": [
    "fedavg_acc = accuracy(fedavg_model)\n",
    "fedavg_acc"
   ]
  },
  {
   "cell_type": "code",
   "execution_count": null,
   "id": "ml3MVBMuy12S",
   "metadata": {
    "colab": {
     "base_uri": "https://localhost:8080/"
    },
    "executionInfo": {
     "elapsed": 30118,
     "status": "ok",
     "timestamp": 1746192534106,
     "user": {
      "displayName": "Jay Osborne",
      "userId": "10666121051852436936"
     },
     "user_tz": -300
    },
    "id": "ml3MVBMuy12S",
    "outputId": "d2e3710b-d4cd-4b16-f373-668066503614"
   },
   "outputs": [
    {
     "data": {
      "text/plain": [
       "np.float64(0.1146)"
      ]
     },
     "execution_count": 94,
     "metadata": {},
     "output_type": "execute_result"
    }
   ],
   "source": [
    "fedavgnoise_acc = accuracy(fedavgnoise_model)\n",
    "fedavgnoise_acc"
   ]
  },
  {
   "cell_type": "code",
   "execution_count": null,
   "id": "m7RrlX52paJ5",
   "metadata": {
    "colab": {
     "base_uri": "https://localhost:8080/"
    },
    "executionInfo": {
     "elapsed": 30024,
     "status": "ok",
     "timestamp": 1746192564127,
     "user": {
      "displayName": "Jay Osborne",
      "userId": "10666121051852436936"
     },
     "user_tz": -300
    },
    "id": "m7RrlX52paJ5",
    "outputId": "812bd73a-19b3-485b-978e-7b9eb14e4517"
   },
   "outputs": [
    {
     "data": {
      "text/plain": [
       "np.float64(0.1478)"
      ]
     },
     "execution_count": 95,
     "metadata": {},
     "output_type": "execute_result"
    }
   ],
   "source": [
    "stitched_acc = accuracy(stitched_model)\n",
    "stitched_acc"
   ]
  },
  {
   "cell_type": "code",
   "execution_count": null,
   "id": "b5fc5595",
   "metadata": {
    "colab": {
     "base_uri": "https://localhost:8080/"
    },
    "executionInfo": {
     "elapsed": 35397,
     "status": "ok",
     "timestamp": 1746008832074,
     "user": {
      "displayName": "Firdavsbek Ismoilov",
      "userId": "04027699367216359912"
     },
     "user_tz": -300
    },
    "id": "b5fc5595",
    "outputId": "26397a50-ea7f-4906-9acd-60ec96fd8654"
   },
   "outputs": [
    {
     "data": {
      "text/plain": [
       "np.float64(0.9828)"
      ]
     },
     "execution_count": 54,
     "metadata": {},
     "output_type": "execute_result"
    }
   ],
   "source": [
    "baseline_acc = accuracy(baseline_model)\n",
    "baseline_acc"
   ]
  },
  {
   "cell_type": "markdown",
   "id": "mv707iiSvD49",
   "metadata": {
    "id": "mv707iiSvD49"
   },
   "source": [
    "Paper's Dataless LaS (not modified) –         # acc=0.9867 in 15 iterations.  \n",
    "FedAvg –                       # acc=0.9887 in 5 iterations."
   ]
  },
  {
   "cell_type": "markdown",
   "id": "rnCw8MxOYDCS",
   "metadata": {
    "id": "rnCw8MxOYDCS"
   },
   "source": [
    "### Plot"
   ]
  },
  {
   "cell_type": "markdown",
   "id": "aARp7T3ndjcz",
   "metadata": {
    "id": "aARp7T3ndjcz"
   },
   "source": [
    "initial K=0.95, LaS with Gaussian noise"
   ]
  },
  {
   "cell_type": "code",
   "execution_count": 2,
   "id": "Dmh40KkdYEb3",
   "metadata": {
    "colab": {
     "base_uri": "https://localhost:8080/",
     "height": 571
    },
    "executionInfo": {
     "elapsed": 683,
     "status": "ok",
     "timestamp": 1746279170678,
     "user": {
      "displayName": "Jay Osborne",
      "userId": "10666121051852436936"
     },
     "user_tz": -300
    },
    "id": "Dmh40KkdYEb3",
    "outputId": "d2bc4d6a-5503-4d97-b951-5fe0eb1b6eb3"
   },
   "outputs": [
    {
     "data": {
      "image/png": "[encoded data removed]",
      "text/plain": [
       "<Figure size 1200x700 with 1 Axes>"
      ]
     },
     "metadata": {},
     "output_type": "display_data"
    }
   ],
   "source": [
    "import matplotlib.pyplot as plt\n",
    "\n",
    "x_values = range(1, N+2)\n",
    "\n",
    "plt.figure(figsize=(12, 7))\n",
    "plt.plot(x_values, stitched_accuracy, label='LaS (modified)', color='green', marker='o', markersize=4)\n",
    "plt.plot(x_values, fedavg_accuracy, label='FedAvg', marker='o', markersize=4)\n",
    "plt.plot(x_values, fedavgnoise_accuracy, label='FedAvgNoise', color='red', alpha=0.7, marker='o', markersize=4)\n",
    "\n",
    "\n",
    "plt.xlabel('Communication Round', fontsize='large')\n",
    "plt.ylabel('Accuracy', fontsize='large')\n",
    "plt.title('Gaussian LaS (modified) vs FedAvg vs Gaussian DP-FedAvg (initial K=0.95)')\n",
    "\n",
    "# Set x-axis ticks to integers\n",
    "plt.xticks(x_values)\n",
    "\n",
    "# Set y-axis ticks with increments of 0.1\n",
    "plt.yticks([i / 10 for i in range(11)])\n",
    "plt.tick_params(axis='both', labelsize='large')  # Increase tick font size\n",
    "\n",
    "plt.ylim(0, 1)  # Set Y-axis limits from 0 to 1\n",
    "\n",
    "# Move legend lower\n",
    "plt.legend(loc='lower right', bbox_to_anchor=(1, 0.1), fontsize='large')\n",
    "plt.grid(True)\n",
    "\n",
    "# Save the plot as a vector image\n",
    "plt.savefig('comparison_gnoise.svg', format='svg')\n",
    "\n",
    "plt.show()"
   ]
  }
 ],
 "metadata": {
  "colab": {
   "provenance": []
  },
  "kernelspec": {
   "display_name": ".venv",
   "language": "python",
   "name": "python3"
  },
  "language_info": {
   "codemirror_mode": {
    "name": "ipython",
    "version": 3
   },
   "file_extension": ".py",
   "mimetype": "text/x-python",
   "name": "python",
   "nbconvert_exporter": "python",
   "pygments_lexer": "ipython3",
   "version": "3.13.1"
  }
 },
 "nbformat": 4,
 "nbformat_minor": 5
}
